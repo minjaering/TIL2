{
 "cells": [
  {
   "cell_type": "markdown",
   "id": "44337bcd",
   "metadata": {},
   "source": [
    "## 데이터 불러오기"
   ]
  },
  {
   "cell_type": "code",
   "execution_count": 263,
   "id": "7f1a1d3e",
   "metadata": {},
   "outputs": [],
   "source": [
    "# import all necesary libraries\n",
    "import numpy as np\n",
    "import pandas as pd\n",
    "import matplotlib.pyplot as plt\n",
    "import matplotlib.ticker as ticker\n",
    "import matplotlib.patches as mpatches\n",
    "%matplotlib inline\n",
    "import seaborn as sns\n",
    "import calendar\n",
    "import plotly as pt\n",
    "from plotly import graph_objs as go\n",
    "import plotly.express as px\n",
    "import plotly.figure_factory as ff\n",
    "from pylab import *\n",
    "import matplotlib.patheffects as PathEffects\n",
    "import matplotlib.pyplot as plt\n",
    "\n",
    "plt.rcParams['font.family'] = \"Microsoft JhengHei UI Light\"\n",
    "plt.rcParams['font.serif'] = [\"Microsoft JhengHei UI Light\"]"
   ]
  },
  {
   "cell_type": "code",
   "execution_count": 264,
   "id": "41a1584f",
   "metadata": {},
   "outputs": [],
   "source": [
    "df = pd.read_csv(\"data2/US_Accidents_Dec21_updated.csv\") "
   ]
  },
  {
   "cell_type": "code",
   "execution_count": 265,
   "id": "04a57c36",
   "metadata": {},
   "outputs": [],
   "source": [
    "pd.options.display.max_columns=None"
   ]
  },
  {
   "cell_type": "code",
   "execution_count": 266,
   "id": "48349af8",
   "metadata": {},
   "outputs": [
    {
     "data": {
      "text/html": [
       "<div>\n",
       "<style scoped>\n",
       "    .dataframe tbody tr th:only-of-type {\n",
       "        vertical-align: middle;\n",
       "    }\n",
       "\n",
       "    .dataframe tbody tr th {\n",
       "        vertical-align: top;\n",
       "    }\n",
       "\n",
       "    .dataframe thead th {\n",
       "        text-align: right;\n",
       "    }\n",
       "</style>\n",
       "<table border=\"1\" class=\"dataframe\">\n",
       "  <thead>\n",
       "    <tr style=\"text-align: right;\">\n",
       "      <th></th>\n",
       "      <th>ID</th>\n",
       "      <th>Severity</th>\n",
       "      <th>Start_Time</th>\n",
       "      <th>End_Time</th>\n",
       "      <th>Start_Lat</th>\n",
       "      <th>Start_Lng</th>\n",
       "      <th>End_Lat</th>\n",
       "      <th>End_Lng</th>\n",
       "      <th>Distance(mi)</th>\n",
       "      <th>Description</th>\n",
       "      <th>Number</th>\n",
       "      <th>Street</th>\n",
       "      <th>Side</th>\n",
       "      <th>City</th>\n",
       "      <th>County</th>\n",
       "      <th>State</th>\n",
       "      <th>Zipcode</th>\n",
       "      <th>Country</th>\n",
       "      <th>Timezone</th>\n",
       "      <th>Airport_Code</th>\n",
       "      <th>Weather_Timestamp</th>\n",
       "      <th>Temperature(F)</th>\n",
       "      <th>Wind_Chill(F)</th>\n",
       "      <th>Humidity(%)</th>\n",
       "      <th>Pressure(in)</th>\n",
       "      <th>Visibility(mi)</th>\n",
       "      <th>Wind_Direction</th>\n",
       "      <th>Wind_Speed(mph)</th>\n",
       "      <th>Precipitation(in)</th>\n",
       "      <th>Weather_Condition</th>\n",
       "      <th>Amenity</th>\n",
       "      <th>Bump</th>\n",
       "      <th>Crossing</th>\n",
       "      <th>Give_Way</th>\n",
       "      <th>Junction</th>\n",
       "      <th>No_Exit</th>\n",
       "      <th>Railway</th>\n",
       "      <th>Roundabout</th>\n",
       "      <th>Station</th>\n",
       "      <th>Stop</th>\n",
       "      <th>Traffic_Calming</th>\n",
       "      <th>Traffic_Signal</th>\n",
       "      <th>Turning_Loop</th>\n",
       "      <th>Sunrise_Sunset</th>\n",
       "      <th>Civil_Twilight</th>\n",
       "      <th>Nautical_Twilight</th>\n",
       "      <th>Astronomical_Twilight</th>\n",
       "    </tr>\n",
       "  </thead>\n",
       "  <tbody>\n",
       "    <tr>\n",
       "      <th>0</th>\n",
       "      <td>A-1</td>\n",
       "      <td>3</td>\n",
       "      <td>2016-02-08 00:37:08</td>\n",
       "      <td>2016-02-08 06:37:08</td>\n",
       "      <td>40.108910</td>\n",
       "      <td>-83.092860</td>\n",
       "      <td>40.112060</td>\n",
       "      <td>-83.031870</td>\n",
       "      <td>3.230</td>\n",
       "      <td>Between Sawmill Rd/Exit 20 and OH-315/Olentang...</td>\n",
       "      <td>NaN</td>\n",
       "      <td>Outerbelt E</td>\n",
       "      <td>R</td>\n",
       "      <td>Dublin</td>\n",
       "      <td>Franklin</td>\n",
       "      <td>OH</td>\n",
       "      <td>43017</td>\n",
       "      <td>US</td>\n",
       "      <td>US/Eastern</td>\n",
       "      <td>KOSU</td>\n",
       "      <td>2016-02-08 00:53:00</td>\n",
       "      <td>42.1</td>\n",
       "      <td>36.1</td>\n",
       "      <td>58.0</td>\n",
       "      <td>29.76</td>\n",
       "      <td>10.0</td>\n",
       "      <td>SW</td>\n",
       "      <td>10.4</td>\n",
       "      <td>0.00</td>\n",
       "      <td>Light Rain</td>\n",
       "      <td>False</td>\n",
       "      <td>False</td>\n",
       "      <td>False</td>\n",
       "      <td>False</td>\n",
       "      <td>False</td>\n",
       "      <td>False</td>\n",
       "      <td>False</td>\n",
       "      <td>False</td>\n",
       "      <td>False</td>\n",
       "      <td>False</td>\n",
       "      <td>False</td>\n",
       "      <td>False</td>\n",
       "      <td>False</td>\n",
       "      <td>Night</td>\n",
       "      <td>Night</td>\n",
       "      <td>Night</td>\n",
       "      <td>Night</td>\n",
       "    </tr>\n",
       "    <tr>\n",
       "      <th>1</th>\n",
       "      <td>A-2</td>\n",
       "      <td>2</td>\n",
       "      <td>2016-02-08 05:56:20</td>\n",
       "      <td>2016-02-08 11:56:20</td>\n",
       "      <td>39.865420</td>\n",
       "      <td>-84.062800</td>\n",
       "      <td>39.865010</td>\n",
       "      <td>-84.048730</td>\n",
       "      <td>0.747</td>\n",
       "      <td>At OH-4/OH-235/Exit 41 - Accident.</td>\n",
       "      <td>NaN</td>\n",
       "      <td>I-70 E</td>\n",
       "      <td>R</td>\n",
       "      <td>Dayton</td>\n",
       "      <td>Montgomery</td>\n",
       "      <td>OH</td>\n",
       "      <td>45424</td>\n",
       "      <td>US</td>\n",
       "      <td>US/Eastern</td>\n",
       "      <td>KFFO</td>\n",
       "      <td>2016-02-08 05:58:00</td>\n",
       "      <td>36.9</td>\n",
       "      <td>NaN</td>\n",
       "      <td>91.0</td>\n",
       "      <td>29.68</td>\n",
       "      <td>10.0</td>\n",
       "      <td>Calm</td>\n",
       "      <td>NaN</td>\n",
       "      <td>0.02</td>\n",
       "      <td>Light Rain</td>\n",
       "      <td>False</td>\n",
       "      <td>False</td>\n",
       "      <td>False</td>\n",
       "      <td>False</td>\n",
       "      <td>False</td>\n",
       "      <td>False</td>\n",
       "      <td>False</td>\n",
       "      <td>False</td>\n",
       "      <td>False</td>\n",
       "      <td>False</td>\n",
       "      <td>False</td>\n",
       "      <td>False</td>\n",
       "      <td>False</td>\n",
       "      <td>Night</td>\n",
       "      <td>Night</td>\n",
       "      <td>Night</td>\n",
       "      <td>Night</td>\n",
       "    </tr>\n",
       "    <tr>\n",
       "      <th>2</th>\n",
       "      <td>A-3</td>\n",
       "      <td>2</td>\n",
       "      <td>2016-02-08 06:15:39</td>\n",
       "      <td>2016-02-08 12:15:39</td>\n",
       "      <td>39.102660</td>\n",
       "      <td>-84.524680</td>\n",
       "      <td>39.102090</td>\n",
       "      <td>-84.523960</td>\n",
       "      <td>0.055</td>\n",
       "      <td>At I-71/US-50/Exit 1 - Accident.</td>\n",
       "      <td>NaN</td>\n",
       "      <td>I-75 S</td>\n",
       "      <td>R</td>\n",
       "      <td>Cincinnati</td>\n",
       "      <td>Hamilton</td>\n",
       "      <td>OH</td>\n",
       "      <td>45203</td>\n",
       "      <td>US</td>\n",
       "      <td>US/Eastern</td>\n",
       "      <td>KLUK</td>\n",
       "      <td>2016-02-08 05:53:00</td>\n",
       "      <td>36.0</td>\n",
       "      <td>NaN</td>\n",
       "      <td>97.0</td>\n",
       "      <td>29.70</td>\n",
       "      <td>10.0</td>\n",
       "      <td>Calm</td>\n",
       "      <td>NaN</td>\n",
       "      <td>0.02</td>\n",
       "      <td>Overcast</td>\n",
       "      <td>False</td>\n",
       "      <td>False</td>\n",
       "      <td>False</td>\n",
       "      <td>False</td>\n",
       "      <td>True</td>\n",
       "      <td>False</td>\n",
       "      <td>False</td>\n",
       "      <td>False</td>\n",
       "      <td>False</td>\n",
       "      <td>False</td>\n",
       "      <td>False</td>\n",
       "      <td>False</td>\n",
       "      <td>False</td>\n",
       "      <td>Night</td>\n",
       "      <td>Night</td>\n",
       "      <td>Night</td>\n",
       "      <td>Day</td>\n",
       "    </tr>\n",
       "    <tr>\n",
       "      <th>3</th>\n",
       "      <td>A-4</td>\n",
       "      <td>2</td>\n",
       "      <td>2016-02-08 06:51:45</td>\n",
       "      <td>2016-02-08 12:51:45</td>\n",
       "      <td>41.062130</td>\n",
       "      <td>-81.537840</td>\n",
       "      <td>41.062170</td>\n",
       "      <td>-81.535470</td>\n",
       "      <td>0.123</td>\n",
       "      <td>At Dart Ave/Exit 21 - Accident.</td>\n",
       "      <td>NaN</td>\n",
       "      <td>I-77 N</td>\n",
       "      <td>R</td>\n",
       "      <td>Akron</td>\n",
       "      <td>Summit</td>\n",
       "      <td>OH</td>\n",
       "      <td>44311</td>\n",
       "      <td>US</td>\n",
       "      <td>US/Eastern</td>\n",
       "      <td>KAKR</td>\n",
       "      <td>2016-02-08 06:54:00</td>\n",
       "      <td>39.0</td>\n",
       "      <td>NaN</td>\n",
       "      <td>55.0</td>\n",
       "      <td>29.65</td>\n",
       "      <td>10.0</td>\n",
       "      <td>Calm</td>\n",
       "      <td>NaN</td>\n",
       "      <td>NaN</td>\n",
       "      <td>Overcast</td>\n",
       "      <td>False</td>\n",
       "      <td>False</td>\n",
       "      <td>False</td>\n",
       "      <td>False</td>\n",
       "      <td>False</td>\n",
       "      <td>False</td>\n",
       "      <td>False</td>\n",
       "      <td>False</td>\n",
       "      <td>False</td>\n",
       "      <td>False</td>\n",
       "      <td>False</td>\n",
       "      <td>False</td>\n",
       "      <td>False</td>\n",
       "      <td>Night</td>\n",
       "      <td>Night</td>\n",
       "      <td>Day</td>\n",
       "      <td>Day</td>\n",
       "    </tr>\n",
       "    <tr>\n",
       "      <th>4</th>\n",
       "      <td>A-5</td>\n",
       "      <td>3</td>\n",
       "      <td>2016-02-08 07:53:43</td>\n",
       "      <td>2016-02-08 13:53:43</td>\n",
       "      <td>39.172393</td>\n",
       "      <td>-84.492792</td>\n",
       "      <td>39.170476</td>\n",
       "      <td>-84.501798</td>\n",
       "      <td>0.500</td>\n",
       "      <td>At Mitchell Ave/Exit 6 - Accident.</td>\n",
       "      <td>NaN</td>\n",
       "      <td>I-75 S</td>\n",
       "      <td>R</td>\n",
       "      <td>Cincinnati</td>\n",
       "      <td>Hamilton</td>\n",
       "      <td>OH</td>\n",
       "      <td>45217</td>\n",
       "      <td>US</td>\n",
       "      <td>US/Eastern</td>\n",
       "      <td>KLUK</td>\n",
       "      <td>2016-02-08 07:53:00</td>\n",
       "      <td>37.0</td>\n",
       "      <td>29.8</td>\n",
       "      <td>93.0</td>\n",
       "      <td>29.69</td>\n",
       "      <td>10.0</td>\n",
       "      <td>WSW</td>\n",
       "      <td>10.4</td>\n",
       "      <td>0.01</td>\n",
       "      <td>Light Rain</td>\n",
       "      <td>False</td>\n",
       "      <td>False</td>\n",
       "      <td>False</td>\n",
       "      <td>False</td>\n",
       "      <td>False</td>\n",
       "      <td>False</td>\n",
       "      <td>False</td>\n",
       "      <td>False</td>\n",
       "      <td>False</td>\n",
       "      <td>False</td>\n",
       "      <td>False</td>\n",
       "      <td>False</td>\n",
       "      <td>False</td>\n",
       "      <td>Day</td>\n",
       "      <td>Day</td>\n",
       "      <td>Day</td>\n",
       "      <td>Day</td>\n",
       "    </tr>\n",
       "    <tr>\n",
       "      <th>5</th>\n",
       "      <td>A-6</td>\n",
       "      <td>2</td>\n",
       "      <td>2016-02-08 08:16:57</td>\n",
       "      <td>2016-02-08 14:16:57</td>\n",
       "      <td>39.063240</td>\n",
       "      <td>-84.032430</td>\n",
       "      <td>39.067310</td>\n",
       "      <td>-84.058510</td>\n",
       "      <td>1.427</td>\n",
       "      <td>At Dela Palma Rd - Accident.</td>\n",
       "      <td>NaN</td>\n",
       "      <td>State Route 32</td>\n",
       "      <td>R</td>\n",
       "      <td>Williamsburg</td>\n",
       "      <td>Clermont</td>\n",
       "      <td>OH</td>\n",
       "      <td>45176</td>\n",
       "      <td>US</td>\n",
       "      <td>US/Eastern</td>\n",
       "      <td>KI69</td>\n",
       "      <td>2016-02-08 08:16:00</td>\n",
       "      <td>35.6</td>\n",
       "      <td>29.2</td>\n",
       "      <td>100.0</td>\n",
       "      <td>29.66</td>\n",
       "      <td>10.0</td>\n",
       "      <td>WSW</td>\n",
       "      <td>8.1</td>\n",
       "      <td>NaN</td>\n",
       "      <td>Overcast</td>\n",
       "      <td>False</td>\n",
       "      <td>False</td>\n",
       "      <td>False</td>\n",
       "      <td>False</td>\n",
       "      <td>False</td>\n",
       "      <td>False</td>\n",
       "      <td>False</td>\n",
       "      <td>False</td>\n",
       "      <td>False</td>\n",
       "      <td>False</td>\n",
       "      <td>False</td>\n",
       "      <td>True</td>\n",
       "      <td>False</td>\n",
       "      <td>Day</td>\n",
       "      <td>Day</td>\n",
       "      <td>Day</td>\n",
       "      <td>Day</td>\n",
       "    </tr>\n",
       "    <tr>\n",
       "      <th>6</th>\n",
       "      <td>A-7</td>\n",
       "      <td>2</td>\n",
       "      <td>2016-02-08 08:15:41</td>\n",
       "      <td>2016-02-08 14:15:41</td>\n",
       "      <td>39.775650</td>\n",
       "      <td>-84.186030</td>\n",
       "      <td>39.772750</td>\n",
       "      <td>-84.188050</td>\n",
       "      <td>0.227</td>\n",
       "      <td>At OH-4/Exit 54 - Accident.</td>\n",
       "      <td>NaN</td>\n",
       "      <td>I-75 S</td>\n",
       "      <td>R</td>\n",
       "      <td>Dayton</td>\n",
       "      <td>Montgomery</td>\n",
       "      <td>OH</td>\n",
       "      <td>45404</td>\n",
       "      <td>US</td>\n",
       "      <td>US/Eastern</td>\n",
       "      <td>KFFO</td>\n",
       "      <td>2016-02-08 08:18:00</td>\n",
       "      <td>33.8</td>\n",
       "      <td>NaN</td>\n",
       "      <td>100.0</td>\n",
       "      <td>29.63</td>\n",
       "      <td>3.0</td>\n",
       "      <td>SW</td>\n",
       "      <td>2.3</td>\n",
       "      <td>NaN</td>\n",
       "      <td>Mostly Cloudy</td>\n",
       "      <td>False</td>\n",
       "      <td>False</td>\n",
       "      <td>False</td>\n",
       "      <td>False</td>\n",
       "      <td>False</td>\n",
       "      <td>False</td>\n",
       "      <td>False</td>\n",
       "      <td>False</td>\n",
       "      <td>False</td>\n",
       "      <td>False</td>\n",
       "      <td>False</td>\n",
       "      <td>False</td>\n",
       "      <td>False</td>\n",
       "      <td>Day</td>\n",
       "      <td>Day</td>\n",
       "      <td>Day</td>\n",
       "      <td>Day</td>\n",
       "    </tr>\n",
       "    <tr>\n",
       "      <th>7</th>\n",
       "      <td>A-8</td>\n",
       "      <td>2</td>\n",
       "      <td>2016-02-08 11:51:46</td>\n",
       "      <td>2016-02-08 17:51:46</td>\n",
       "      <td>41.375310</td>\n",
       "      <td>-81.820170</td>\n",
       "      <td>41.367860</td>\n",
       "      <td>-81.821740</td>\n",
       "      <td>0.521</td>\n",
       "      <td>At Bagley Rd/Exit 235 - Accident.</td>\n",
       "      <td>NaN</td>\n",
       "      <td>I-71 S</td>\n",
       "      <td>R</td>\n",
       "      <td>Cleveland</td>\n",
       "      <td>Cuyahoga</td>\n",
       "      <td>OH</td>\n",
       "      <td>44130</td>\n",
       "      <td>US</td>\n",
       "      <td>US/Eastern</td>\n",
       "      <td>KCLE</td>\n",
       "      <td>2016-02-08 11:51:00</td>\n",
       "      <td>33.1</td>\n",
       "      <td>30.0</td>\n",
       "      <td>92.0</td>\n",
       "      <td>29.63</td>\n",
       "      <td>0.5</td>\n",
       "      <td>SW</td>\n",
       "      <td>3.5</td>\n",
       "      <td>0.08</td>\n",
       "      <td>Snow</td>\n",
       "      <td>False</td>\n",
       "      <td>False</td>\n",
       "      <td>False</td>\n",
       "      <td>False</td>\n",
       "      <td>True</td>\n",
       "      <td>False</td>\n",
       "      <td>False</td>\n",
       "      <td>False</td>\n",
       "      <td>False</td>\n",
       "      <td>False</td>\n",
       "      <td>False</td>\n",
       "      <td>False</td>\n",
       "      <td>False</td>\n",
       "      <td>Day</td>\n",
       "      <td>Day</td>\n",
       "      <td>Day</td>\n",
       "      <td>Day</td>\n",
       "    </tr>\n",
       "    <tr>\n",
       "      <th>8</th>\n",
       "      <td>A-9</td>\n",
       "      <td>2</td>\n",
       "      <td>2016-02-08 14:19:57</td>\n",
       "      <td>2016-02-08 20:19:57</td>\n",
       "      <td>40.702247</td>\n",
       "      <td>-84.075887</td>\n",
       "      <td>40.699110</td>\n",
       "      <td>-84.084293</td>\n",
       "      <td>0.491</td>\n",
       "      <td>At OH-65/Exit 122 - Accident.</td>\n",
       "      <td>NaN</td>\n",
       "      <td>E Hanthorn Rd</td>\n",
       "      <td>R</td>\n",
       "      <td>Lima</td>\n",
       "      <td>Allen</td>\n",
       "      <td>OH</td>\n",
       "      <td>45806</td>\n",
       "      <td>US</td>\n",
       "      <td>US/Eastern</td>\n",
       "      <td>KAOH</td>\n",
       "      <td>2016-02-08 13:53:00</td>\n",
       "      <td>39.0</td>\n",
       "      <td>31.8</td>\n",
       "      <td>70.0</td>\n",
       "      <td>29.59</td>\n",
       "      <td>10.0</td>\n",
       "      <td>WNW</td>\n",
       "      <td>11.5</td>\n",
       "      <td>NaN</td>\n",
       "      <td>Overcast</td>\n",
       "      <td>False</td>\n",
       "      <td>False</td>\n",
       "      <td>False</td>\n",
       "      <td>False</td>\n",
       "      <td>False</td>\n",
       "      <td>False</td>\n",
       "      <td>False</td>\n",
       "      <td>False</td>\n",
       "      <td>False</td>\n",
       "      <td>False</td>\n",
       "      <td>False</td>\n",
       "      <td>False</td>\n",
       "      <td>False</td>\n",
       "      <td>Day</td>\n",
       "      <td>Day</td>\n",
       "      <td>Day</td>\n",
       "      <td>Day</td>\n",
       "    </tr>\n",
       "    <tr>\n",
       "      <th>9</th>\n",
       "      <td>A-10</td>\n",
       "      <td>2</td>\n",
       "      <td>2016-02-08 15:16:43</td>\n",
       "      <td>2016-02-08 21:16:43</td>\n",
       "      <td>40.109310</td>\n",
       "      <td>-82.968490</td>\n",
       "      <td>40.110780</td>\n",
       "      <td>-82.984000</td>\n",
       "      <td>0.826</td>\n",
       "      <td>At I-71/Exit 26 - Accident.</td>\n",
       "      <td>NaN</td>\n",
       "      <td>Outerbelt W</td>\n",
       "      <td>R</td>\n",
       "      <td>Westerville</td>\n",
       "      <td>Franklin</td>\n",
       "      <td>OH</td>\n",
       "      <td>43081</td>\n",
       "      <td>US</td>\n",
       "      <td>US/Eastern</td>\n",
       "      <td>KCMH</td>\n",
       "      <td>2016-02-08 15:12:00</td>\n",
       "      <td>32.0</td>\n",
       "      <td>28.7</td>\n",
       "      <td>100.0</td>\n",
       "      <td>29.59</td>\n",
       "      <td>0.5</td>\n",
       "      <td>West</td>\n",
       "      <td>3.5</td>\n",
       "      <td>0.05</td>\n",
       "      <td>Snow</td>\n",
       "      <td>False</td>\n",
       "      <td>False</td>\n",
       "      <td>False</td>\n",
       "      <td>False</td>\n",
       "      <td>False</td>\n",
       "      <td>False</td>\n",
       "      <td>False</td>\n",
       "      <td>False</td>\n",
       "      <td>False</td>\n",
       "      <td>False</td>\n",
       "      <td>False</td>\n",
       "      <td>False</td>\n",
       "      <td>False</td>\n",
       "      <td>Day</td>\n",
       "      <td>Day</td>\n",
       "      <td>Day</td>\n",
       "      <td>Day</td>\n",
       "    </tr>\n",
       "  </tbody>\n",
       "</table>\n",
       "</div>"
      ],
      "text/plain": [
       "     ID  Severity           Start_Time             End_Time  Start_Lat  \\\n",
       "0   A-1         3  2016-02-08 00:37:08  2016-02-08 06:37:08  40.108910   \n",
       "1   A-2         2  2016-02-08 05:56:20  2016-02-08 11:56:20  39.865420   \n",
       "2   A-3         2  2016-02-08 06:15:39  2016-02-08 12:15:39  39.102660   \n",
       "3   A-4         2  2016-02-08 06:51:45  2016-02-08 12:51:45  41.062130   \n",
       "4   A-5         3  2016-02-08 07:53:43  2016-02-08 13:53:43  39.172393   \n",
       "5   A-6         2  2016-02-08 08:16:57  2016-02-08 14:16:57  39.063240   \n",
       "6   A-7         2  2016-02-08 08:15:41  2016-02-08 14:15:41  39.775650   \n",
       "7   A-8         2  2016-02-08 11:51:46  2016-02-08 17:51:46  41.375310   \n",
       "8   A-9         2  2016-02-08 14:19:57  2016-02-08 20:19:57  40.702247   \n",
       "9  A-10         2  2016-02-08 15:16:43  2016-02-08 21:16:43  40.109310   \n",
       "\n",
       "   Start_Lng    End_Lat    End_Lng  Distance(mi)  \\\n",
       "0 -83.092860  40.112060 -83.031870         3.230   \n",
       "1 -84.062800  39.865010 -84.048730         0.747   \n",
       "2 -84.524680  39.102090 -84.523960         0.055   \n",
       "3 -81.537840  41.062170 -81.535470         0.123   \n",
       "4 -84.492792  39.170476 -84.501798         0.500   \n",
       "5 -84.032430  39.067310 -84.058510         1.427   \n",
       "6 -84.186030  39.772750 -84.188050         0.227   \n",
       "7 -81.820170  41.367860 -81.821740         0.521   \n",
       "8 -84.075887  40.699110 -84.084293         0.491   \n",
       "9 -82.968490  40.110780 -82.984000         0.826   \n",
       "\n",
       "                                         Description  Number          Street  \\\n",
       "0  Between Sawmill Rd/Exit 20 and OH-315/Olentang...     NaN     Outerbelt E   \n",
       "1                 At OH-4/OH-235/Exit 41 - Accident.     NaN          I-70 E   \n",
       "2                   At I-71/US-50/Exit 1 - Accident.     NaN          I-75 S   \n",
       "3                    At Dart Ave/Exit 21 - Accident.     NaN          I-77 N   \n",
       "4                 At Mitchell Ave/Exit 6 - Accident.     NaN          I-75 S   \n",
       "5                       At Dela Palma Rd - Accident.     NaN  State Route 32   \n",
       "6                        At OH-4/Exit 54 - Accident.     NaN          I-75 S   \n",
       "7                  At Bagley Rd/Exit 235 - Accident.     NaN          I-71 S   \n",
       "8                      At OH-65/Exit 122 - Accident.     NaN   E Hanthorn Rd   \n",
       "9                        At I-71/Exit 26 - Accident.     NaN     Outerbelt W   \n",
       "\n",
       "  Side          City      County State Zipcode Country    Timezone  \\\n",
       "0    R        Dublin    Franklin    OH   43017      US  US/Eastern   \n",
       "1    R        Dayton  Montgomery    OH   45424      US  US/Eastern   \n",
       "2    R    Cincinnati    Hamilton    OH   45203      US  US/Eastern   \n",
       "3    R         Akron      Summit    OH   44311      US  US/Eastern   \n",
       "4    R    Cincinnati    Hamilton    OH   45217      US  US/Eastern   \n",
       "5    R  Williamsburg    Clermont    OH   45176      US  US/Eastern   \n",
       "6    R        Dayton  Montgomery    OH   45404      US  US/Eastern   \n",
       "7    R     Cleveland    Cuyahoga    OH   44130      US  US/Eastern   \n",
       "8    R          Lima       Allen    OH   45806      US  US/Eastern   \n",
       "9    R   Westerville    Franklin    OH   43081      US  US/Eastern   \n",
       "\n",
       "  Airport_Code    Weather_Timestamp  Temperature(F)  Wind_Chill(F)  \\\n",
       "0         KOSU  2016-02-08 00:53:00            42.1           36.1   \n",
       "1         KFFO  2016-02-08 05:58:00            36.9            NaN   \n",
       "2         KLUK  2016-02-08 05:53:00            36.0            NaN   \n",
       "3         KAKR  2016-02-08 06:54:00            39.0            NaN   \n",
       "4         KLUK  2016-02-08 07:53:00            37.0           29.8   \n",
       "5         KI69  2016-02-08 08:16:00            35.6           29.2   \n",
       "6         KFFO  2016-02-08 08:18:00            33.8            NaN   \n",
       "7         KCLE  2016-02-08 11:51:00            33.1           30.0   \n",
       "8         KAOH  2016-02-08 13:53:00            39.0           31.8   \n",
       "9         KCMH  2016-02-08 15:12:00            32.0           28.7   \n",
       "\n",
       "   Humidity(%)  Pressure(in)  Visibility(mi) Wind_Direction  Wind_Speed(mph)  \\\n",
       "0         58.0         29.76            10.0             SW             10.4   \n",
       "1         91.0         29.68            10.0           Calm              NaN   \n",
       "2         97.0         29.70            10.0           Calm              NaN   \n",
       "3         55.0         29.65            10.0           Calm              NaN   \n",
       "4         93.0         29.69            10.0            WSW             10.4   \n",
       "5        100.0         29.66            10.0            WSW              8.1   \n",
       "6        100.0         29.63             3.0             SW              2.3   \n",
       "7         92.0         29.63             0.5             SW              3.5   \n",
       "8         70.0         29.59            10.0            WNW             11.5   \n",
       "9        100.0         29.59             0.5           West              3.5   \n",
       "\n",
       "   Precipitation(in) Weather_Condition  Amenity   Bump  Crossing  Give_Way  \\\n",
       "0               0.00        Light Rain    False  False     False     False   \n",
       "1               0.02        Light Rain    False  False     False     False   \n",
       "2               0.02          Overcast    False  False     False     False   \n",
       "3                NaN          Overcast    False  False     False     False   \n",
       "4               0.01        Light Rain    False  False     False     False   \n",
       "5                NaN          Overcast    False  False     False     False   \n",
       "6                NaN     Mostly Cloudy    False  False     False     False   \n",
       "7               0.08              Snow    False  False     False     False   \n",
       "8                NaN          Overcast    False  False     False     False   \n",
       "9               0.05              Snow    False  False     False     False   \n",
       "\n",
       "   Junction  No_Exit  Railway  Roundabout  Station   Stop  Traffic_Calming  \\\n",
       "0     False    False    False       False    False  False            False   \n",
       "1     False    False    False       False    False  False            False   \n",
       "2      True    False    False       False    False  False            False   \n",
       "3     False    False    False       False    False  False            False   \n",
       "4     False    False    False       False    False  False            False   \n",
       "5     False    False    False       False    False  False            False   \n",
       "6     False    False    False       False    False  False            False   \n",
       "7      True    False    False       False    False  False            False   \n",
       "8     False    False    False       False    False  False            False   \n",
       "9     False    False    False       False    False  False            False   \n",
       "\n",
       "   Traffic_Signal  Turning_Loop Sunrise_Sunset Civil_Twilight  \\\n",
       "0           False         False          Night          Night   \n",
       "1           False         False          Night          Night   \n",
       "2           False         False          Night          Night   \n",
       "3           False         False          Night          Night   \n",
       "4           False         False            Day            Day   \n",
       "5            True         False            Day            Day   \n",
       "6           False         False            Day            Day   \n",
       "7           False         False            Day            Day   \n",
       "8           False         False            Day            Day   \n",
       "9           False         False            Day            Day   \n",
       "\n",
       "  Nautical_Twilight Astronomical_Twilight  \n",
       "0             Night                 Night  \n",
       "1             Night                 Night  \n",
       "2             Night                   Day  \n",
       "3               Day                   Day  \n",
       "4               Day                   Day  \n",
       "5               Day                   Day  \n",
       "6               Day                   Day  \n",
       "7               Day                   Day  \n",
       "8               Day                   Day  \n",
       "9               Day                   Day  "
      ]
     },
     "execution_count": 266,
     "metadata": {},
     "output_type": "execute_result"
    }
   ],
   "source": [
    "df.head(10)"
   ]
  },
  {
   "cell_type": "code",
   "execution_count": 178,
   "id": "a49b681c",
   "metadata": {
    "scrolled": true
   },
   "outputs": [
    {
     "name": "stdout",
     "output_type": "stream",
     "text": [
      "<class 'pandas.core.frame.DataFrame'>\n",
      "RangeIndex: 2845342 entries, 0 to 2845341\n",
      "Data columns (total 47 columns):\n",
      " #   Column                 Dtype  \n",
      "---  ------                 -----  \n",
      " 0   ID                     object \n",
      " 1   Severity               int64  \n",
      " 2   Start_Time             object \n",
      " 3   End_Time               object \n",
      " 4   Start_Lat              float64\n",
      " 5   Start_Lng              float64\n",
      " 6   End_Lat                float64\n",
      " 7   End_Lng                float64\n",
      " 8   Distance(mi)           float64\n",
      " 9   Description            object \n",
      " 10  Number                 float64\n",
      " 11  Street                 object \n",
      " 12  Side                   object \n",
      " 13  City                   object \n",
      " 14  County                 object \n",
      " 15  State                  object \n",
      " 16  Zipcode                object \n",
      " 17  Country                object \n",
      " 18  Timezone               object \n",
      " 19  Airport_Code           object \n",
      " 20  Weather_Timestamp      object \n",
      " 21  Temperature(F)         float64\n",
      " 22  Wind_Chill(F)          float64\n",
      " 23  Humidity(%)            float64\n",
      " 24  Pressure(in)           float64\n",
      " 25  Visibility(mi)         float64\n",
      " 26  Wind_Direction         object \n",
      " 27  Wind_Speed(mph)        float64\n",
      " 28  Precipitation(in)      float64\n",
      " 29  Weather_Condition      object \n",
      " 30  Amenity                bool   \n",
      " 31  Bump                   bool   \n",
      " 32  Crossing               bool   \n",
      " 33  Give_Way               bool   \n",
      " 34  Junction               bool   \n",
      " 35  No_Exit                bool   \n",
      " 36  Railway                bool   \n",
      " 37  Roundabout             bool   \n",
      " 38  Station                bool   \n",
      " 39  Stop                   bool   \n",
      " 40  Traffic_Calming        bool   \n",
      " 41  Traffic_Signal         bool   \n",
      " 42  Turning_Loop           bool   \n",
      " 43  Sunrise_Sunset         object \n",
      " 44  Civil_Twilight         object \n",
      " 45  Nautical_Twilight      object \n",
      " 46  Astronomical_Twilight  object \n",
      "dtypes: bool(13), float64(13), int64(1), object(20)\n",
      "memory usage: 773.4+ MB\n"
     ]
    }
   ],
   "source": [
    "df.info()"
   ]
  },
  {
   "cell_type": "code",
   "execution_count": 179,
   "id": "876d8e86",
   "metadata": {},
   "outputs": [
    {
     "data": {
      "text/plain": [
       "0         2016-02-08 06:37:08\n",
       "1         2016-02-08 11:56:20\n",
       "2         2016-02-08 12:15:39\n",
       "3         2016-02-08 12:51:45\n",
       "4         2016-02-08 13:53:43\n",
       "                  ...        \n",
       "2845337   2019-08-23 18:32:01\n",
       "2845338   2019-08-23 19:38:23\n",
       "2845339   2019-08-23 19:28:49\n",
       "2845340   2019-08-23 19:29:42\n",
       "2845341   2019-08-23 19:21:31\n",
       "Name: End_Time, Length: 2845342, dtype: datetime64[ns]"
      ]
     },
     "execution_count": 179,
     "metadata": {},
     "output_type": "execute_result"
    }
   ],
   "source": [
    "# 시간데이터로 자료형 변환\n",
    "df.Start_Time = pd.to_datetime(df.Start_Time)\n",
    "df.End_Time = pd.to_datetime(df.End_Time)\n",
    "df.Start_Time\n",
    "df.End_Time "
   ]
  },
  {
   "cell_type": "markdown",
   "id": "db8f37c7",
   "metadata": {},
   "source": [
    "## Time Analysis  "
   ]
  },
  {
   "cell_type": "markdown",
   "id": "9f31ebba",
   "metadata": {},
   "source": [
    "### year analysis"
   ]
  },
  {
   "cell_type": "code",
   "execution_count": 180,
   "id": "6085720d",
   "metadata": {},
   "outputs": [
    {
     "data": {
      "text/html": [
       "<div>\n",
       "<style scoped>\n",
       "    .dataframe tbody tr th:only-of-type {\n",
       "        vertical-align: middle;\n",
       "    }\n",
       "\n",
       "    .dataframe tbody tr th {\n",
       "        vertical-align: top;\n",
       "    }\n",
       "\n",
       "    .dataframe thead th {\n",
       "        text-align: right;\n",
       "    }\n",
       "</style>\n",
       "<table border=\"1\" class=\"dataframe\">\n",
       "  <thead>\n",
       "    <tr style=\"text-align: right;\">\n",
       "      <th></th>\n",
       "      <th>Year</th>\n",
       "      <th>Cases</th>\n",
       "    </tr>\n",
       "  </thead>\n",
       "  <tbody>\n",
       "    <tr>\n",
       "      <th>5</th>\n",
       "      <td>2016</td>\n",
       "      <td>122024</td>\n",
       "    </tr>\n",
       "    <tr>\n",
       "      <th>4</th>\n",
       "      <td>2018</td>\n",
       "      <td>163176</td>\n",
       "    </tr>\n",
       "    <tr>\n",
       "      <th>3</th>\n",
       "      <td>2017</td>\n",
       "      <td>163918</td>\n",
       "    </tr>\n",
       "    <tr>\n",
       "      <th>2</th>\n",
       "      <td>2019</td>\n",
       "      <td>258615</td>\n",
       "    </tr>\n",
       "    <tr>\n",
       "      <th>1</th>\n",
       "      <td>2020</td>\n",
       "      <td>625864</td>\n",
       "    </tr>\n",
       "    <tr>\n",
       "      <th>0</th>\n",
       "      <td>2021</td>\n",
       "      <td>1511745</td>\n",
       "    </tr>\n",
       "  </tbody>\n",
       "</table>\n",
       "</div>"
      ],
      "text/plain": [
       "   Year    Cases\n",
       "5  2016   122024\n",
       "4  2018   163176\n",
       "3  2017   163918\n",
       "2  2019   258615\n",
       "1  2020   625864\n",
       "0  2021  1511745"
      ]
     },
     "execution_count": 180,
     "metadata": {},
     "output_type": "execute_result"
    }
   ],
   "source": [
    "year_df = pd.DataFrame(df.Start_Time.dt.year.value_counts()).reset_index().rename(columns={'index':'Year', 'Start_Time':'Cases'}).sort_values(by='Cases', ascending=True)\n",
    "year_df"
   ]
  },
  {
   "cell_type": "code",
   "execution_count": 181,
   "id": "17e8408a",
   "metadata": {},
   "outputs": [
    {
     "data": {
      "text/plain": [
       "<AxesSubplot:xlabel='Year'>"
      ]
     },
     "execution_count": 181,
     "metadata": {},
     "output_type": "execute_result"
    },
    {
     "data": {
      "image/png": "[encoded data removed]",
      "text/plain": [
       "<Figure size 864x576 with 1 Axes>"
      ]
     },
     "metadata": {
      "needs_background": "light"
     },
     "output_type": "display_data"
    }
   ],
   "source": [
    "year_df.groupby(\"Year\")[\"Cases\"].sum().plot.bar(figsize=(12,8))"
   ]
  },
  {
   "cell_type": "markdown",
   "id": "24208db7",
   "metadata": {},
   "source": [
    "<1.인사이트>\n",
    "\n",
    "1) 6년동안 사고 건수가 계속 증가하는 흐름. 특히 2020년부터 2021년에 폭증.\n",
    "2) 6년 전체 도로 사고 중 ~ (80프로? 예상)는 19,20,21년도 에 발생."
   ]
  },
  {
   "cell_type": "markdown",
   "id": "722c9556",
   "metadata": {},
   "source": [
    "### duration analysis"
   ]
  },
  {
   "cell_type": "code",
   "execution_count": 9,
   "id": "9db6bf83",
   "metadata": {},
   "outputs": [
    {
     "data": {
      "text/html": [
       "<div>\n",
       "<style scoped>\n",
       "    .dataframe tbody tr th:only-of-type {\n",
       "        vertical-align: middle;\n",
       "    }\n",
       "\n",
       "    .dataframe tbody tr th {\n",
       "        vertical-align: top;\n",
       "    }\n",
       "\n",
       "    .dataframe thead th {\n",
       "        text-align: right;\n",
       "    }\n",
       "</style>\n",
       "<table border=\"1\" class=\"dataframe\">\n",
       "  <thead>\n",
       "    <tr style=\"text-align: right;\">\n",
       "      <th></th>\n",
       "      <th>Id</th>\n",
       "      <th>Duration</th>\n",
       "    </tr>\n",
       "  </thead>\n",
       "  <tbody>\n",
       "    <tr>\n",
       "      <th>0</th>\n",
       "      <td>0</td>\n",
       "      <td>0 days 06:00:00</td>\n",
       "    </tr>\n",
       "    <tr>\n",
       "      <th>1</th>\n",
       "      <td>1</td>\n",
       "      <td>0 days 06:00:00</td>\n",
       "    </tr>\n",
       "    <tr>\n",
       "      <th>2</th>\n",
       "      <td>2</td>\n",
       "      <td>0 days 06:00:00</td>\n",
       "    </tr>\n",
       "    <tr>\n",
       "      <th>3</th>\n",
       "      <td>3</td>\n",
       "      <td>0 days 06:00:00</td>\n",
       "    </tr>\n",
       "    <tr>\n",
       "      <th>4</th>\n",
       "      <td>4</td>\n",
       "      <td>0 days 06:00:00</td>\n",
       "    </tr>\n",
       "    <tr>\n",
       "      <th>...</th>\n",
       "      <td>...</td>\n",
       "      <td>...</td>\n",
       "    </tr>\n",
       "    <tr>\n",
       "      <th>2845337</th>\n",
       "      <td>2845337</td>\n",
       "      <td>0 days 00:28:36</td>\n",
       "    </tr>\n",
       "    <tr>\n",
       "      <th>2845338</th>\n",
       "      <td>2845338</td>\n",
       "      <td>0 days 00:26:53</td>\n",
       "    </tr>\n",
       "    <tr>\n",
       "      <th>2845339</th>\n",
       "      <td>2845339</td>\n",
       "      <td>0 days 00:28:28</td>\n",
       "    </tr>\n",
       "    <tr>\n",
       "      <th>2845340</th>\n",
       "      <td>2845340</td>\n",
       "      <td>0 days 00:29:21</td>\n",
       "    </tr>\n",
       "    <tr>\n",
       "      <th>2845341</th>\n",
       "      <td>2845341</td>\n",
       "      <td>0 days 00:29:25</td>\n",
       "    </tr>\n",
       "  </tbody>\n",
       "</table>\n",
       "<p>2845342 rows × 2 columns</p>\n",
       "</div>"
      ],
      "text/plain": [
       "              Id        Duration\n",
       "0              0 0 days 06:00:00\n",
       "1              1 0 days 06:00:00\n",
       "2              2 0 days 06:00:00\n",
       "3              3 0 days 06:00:00\n",
       "4              4 0 days 06:00:00\n",
       "...          ...             ...\n",
       "2845337  2845337 0 days 00:28:36\n",
       "2845338  2845338 0 days 00:26:53\n",
       "2845339  2845339 0 days 00:28:28\n",
       "2845340  2845340 0 days 00:29:21\n",
       "2845341  2845341 0 days 00:29:25\n",
       "\n",
       "[2845342 rows x 2 columns]"
      ]
     },
     "execution_count": 9,
     "metadata": {},
     "output_type": "execute_result"
    }
   ],
   "source": [
    "# 사고 진행 시간별 \n",
    "accident_duration_df = pd.DataFrame(df['End_Time'] - df['Start_Time']).reset_index().rename(columns={'index':'Id', 0:'Duration'})\n",
    "accident_duration_df"
   ]
  },
  {
   "cell_type": "code",
   "execution_count": 10,
   "id": "2a2c480d",
   "metadata": {},
   "outputs": [
    {
     "data": {
      "text/plain": [
       "0 days 06:00:00    353058\n",
       "0 days 04:00:00     55394\n",
       "0 days 00:15:00     37038\n",
       "0 days 00:30:00     35345\n",
       "0 days 01:00:00     28845\n",
       "0 days 01:15:00     25794\n",
       "0 days 01:45:00     24615\n",
       "0 days 00:45:00     18568\n",
       "0 days 02:00:00     16625\n",
       "0 days 00:20:00     12938\n",
       "Name: Duration, dtype: int64"
      ]
     },
     "execution_count": 10,
     "metadata": {},
     "output_type": "execute_result"
    }
   ],
   "source": [
    "accident_duration_df['Duration'].value_counts().head(10)"
   ]
  },
  {
   "cell_type": "code",
   "execution_count": 11,
   "id": "c7c6dbeb",
   "metadata": {},
   "outputs": [
    {
     "data": {
      "text/html": [
       "<div>\n",
       "<style scoped>\n",
       "    .dataframe tbody tr th:only-of-type {\n",
       "        vertical-align: middle;\n",
       "    }\n",
       "\n",
       "    .dataframe tbody tr th {\n",
       "        vertical-align: top;\n",
       "    }\n",
       "\n",
       "    .dataframe thead th {\n",
       "        text-align: right;\n",
       "    }\n",
       "</style>\n",
       "<table border=\"1\" class=\"dataframe\">\n",
       "  <thead>\n",
       "    <tr style=\"text-align: right;\">\n",
       "      <th></th>\n",
       "      <th>Duration</th>\n",
       "      <th>Cases</th>\n",
       "    </tr>\n",
       "  </thead>\n",
       "  <tbody>\n",
       "    <tr>\n",
       "      <th>0</th>\n",
       "      <td>0 days 00:20:00</td>\n",
       "      <td>12938</td>\n",
       "    </tr>\n",
       "    <tr>\n",
       "      <th>1</th>\n",
       "      <td>0 days 04:00:00</td>\n",
       "      <td>55394</td>\n",
       "    </tr>\n",
       "    <tr>\n",
       "      <th>2</th>\n",
       "      <td>0 days 01:45:00</td>\n",
       "      <td>24615</td>\n",
       "    </tr>\n",
       "    <tr>\n",
       "      <th>3</th>\n",
       "      <td>0 days 00:30:00</td>\n",
       "      <td>35345</td>\n",
       "    </tr>\n",
       "    <tr>\n",
       "      <th>4</th>\n",
       "      <td>0 days 01:15:00</td>\n",
       "      <td>25794</td>\n",
       "    </tr>\n",
       "    <tr>\n",
       "      <th>5</th>\n",
       "      <td>0 days 06:00:00</td>\n",
       "      <td>353058</td>\n",
       "    </tr>\n",
       "    <tr>\n",
       "      <th>6</th>\n",
       "      <td>0 days 00:15:00</td>\n",
       "      <td>37038</td>\n",
       "    </tr>\n",
       "    <tr>\n",
       "      <th>7</th>\n",
       "      <td>0 days 00:45:00</td>\n",
       "      <td>18568</td>\n",
       "    </tr>\n",
       "    <tr>\n",
       "      <th>8</th>\n",
       "      <td>0 days 02:00:00</td>\n",
       "      <td>16625</td>\n",
       "    </tr>\n",
       "    <tr>\n",
       "      <th>9</th>\n",
       "      <td>0 days 01:00:00</td>\n",
       "      <td>28845</td>\n",
       "    </tr>\n",
       "  </tbody>\n",
       "</table>\n",
       "</div>"
      ],
      "text/plain": [
       "         Duration   Cases\n",
       "0 0 days 00:20:00   12938\n",
       "1 0 days 04:00:00   55394\n",
       "2 0 days 01:45:00   24615\n",
       "3 0 days 00:30:00   35345\n",
       "4 0 days 01:15:00   25794\n",
       "5 0 days 06:00:00  353058\n",
       "6 0 days 00:15:00   37038\n",
       "7 0 days 00:45:00   18568\n",
       "8 0 days 02:00:00   16625\n",
       "9 0 days 01:00:00   28845"
      ]
     },
     "execution_count": 11,
     "metadata": {},
     "output_type": "execute_result"
    }
   ],
   "source": [
    "top_10_accident_duration_df = pd.DataFrame(accident_duration_df['Duration'].value_counts().head(10).sample(frac = 1)).reset_index().rename(columns={'index':'Duration', 'Duration':'Cases'})\n",
    "top_10_accident_duration_df"
   ]
  },
  {
   "cell_type": "code",
   "execution_count": 12,
   "id": "ba5a7c5c",
   "metadata": {},
   "outputs": [
    {
     "data": {
      "text/plain": [
       "['00:20:00',\n",
       " '04:00:00',\n",
       " '01:45:00',\n",
       " '00:30:00',\n",
       " '01:15:00',\n",
       " '06:00:00',\n",
       " '00:15:00',\n",
       " '00:45:00',\n",
       " '02:00:00',\n",
       " '01:00:00']"
      ]
     },
     "execution_count": 12,
     "metadata": {},
     "output_type": "execute_result"
    }
   ],
   "source": [
    "Duration = [str(i).split('days')[-1].strip()\n",
    "            for i in top_10_accident_duration_df.Duration]\n",
    "Duration"
   ]
  },
  {
   "cell_type": "markdown",
   "id": "f0df0cc5",
   "metadata": {},
   "source": [
    "### year analysis based on severity"
   ]
  },
  {
   "cell_type": "code",
   "execution_count": 13,
   "id": "dd99a80f",
   "metadata": {},
   "outputs": [
    {
     "ename": "ModuleNotFoundError",
     "evalue": "No module named 'geopandas'",
     "output_type": "error",
     "traceback": [
      "\u001b[1;31m---------------------------------------------------------------------------\u001b[0m",
      "\u001b[1;31mModuleNotFoundError\u001b[0m                       Traceback (most recent call last)",
      "\u001b[1;32m~\\AppData\\Local\\Temp/ipykernel_22012/52596531.py\u001b[0m in \u001b[0;36m<module>\u001b[1;34m\u001b[0m\n\u001b[0;32m      1\u001b[0m \u001b[1;31m## -연도별 사고 심각도 건수\u001b[0m\u001b[1;33m\u001b[0m\u001b[1;33m\u001b[0m\u001b[0m\n\u001b[1;32m----> 2\u001b[1;33m \u001b[1;32mimport\u001b[0m \u001b[0mgeopandas\u001b[0m \u001b[1;32mas\u001b[0m \u001b[0mgpd\u001b[0m \u001b[1;31m## 공간정보 다룰 때 사용하는데 설치어려움으로 --> 테블로\u001b[0m\u001b[1;33m\u001b[0m\u001b[1;33m\u001b[0m\u001b[0m\n\u001b[0m\u001b[0;32m      3\u001b[0m \u001b[1;33m\u001b[0m\u001b[0m\n\u001b[0;32m      4\u001b[0m \u001b[0myear_severity\u001b[0m \u001b[1;33m=\u001b[0m \u001b[0mdf\u001b[0m\u001b[1;33m[\u001b[0m\u001b[1;33m[\u001b[0m\u001b[1;34m\"ID\"\u001b[0m\u001b[1;33m,\u001b[0m\u001b[1;34m\"Severity\"\u001b[0m\u001b[1;33m,\u001b[0m\u001b[1;34m\"Start_Time\"\u001b[0m\u001b[1;33m]\u001b[0m\u001b[1;33m]\u001b[0m\u001b[1;33m\u001b[0m\u001b[1;33m\u001b[0m\u001b[0m\n\u001b[0;32m      5\u001b[0m \u001b[0myear_severity\u001b[0m\u001b[1;33m.\u001b[0m\u001b[0mto_csv\u001b[0m\u001b[1;33m(\u001b[0m\u001b[1;34m\"C:/Users/minja/Desktop/프로젝트/year_severity.csv\"\u001b[0m\u001b[1;33m)\u001b[0m\u001b[1;33m\u001b[0m\u001b[1;33m\u001b[0m\u001b[0m\n",
      "\u001b[1;31mModuleNotFoundError\u001b[0m: No module named 'geopandas'"
     ]
    }
   ],
   "source": [
    "## -연도별 사고 심각도 건수 \n",
    "import geopandas as gpd ## 공간정보 다룰 때 사용하는데 설치어려움으로 --> 테블로\n",
    "\n",
    "year_severity = df[[\"ID\",\"Severity\",\"Start_Time\"]]\n",
    "year_severity.to_csv(\"C:/Users/minja/Desktop/프로젝트/year_severity.csv\")"
   ]
  },
  {
   "cell_type": "markdown",
   "id": "24afcab7",
   "metadata": {},
   "source": [
    "### 연도별 평균 일별, 시간별 사고 건수 "
   ]
  },
  {
   "cell_type": "code",
   "execution_count": 13,
   "id": "c575cd7c",
   "metadata": {},
   "outputs": [],
   "source": [
    "year_df['accident/day'] = round(year_df['Cases']/(5*365))\n",
    "year_df['accident/hour'] = round(year_df['Cases']/(5*365*24))"
   ]
  },
  {
   "cell_type": "code",
   "execution_count": null,
   "id": "e5b63e82",
   "metadata": {},
   "outputs": [],
   "source": [
    "# 위 칼럼 테블로에서 만듬."
   ]
  },
  {
   "cell_type": "markdown",
   "id": "d1897c7d",
   "metadata": {},
   "source": [
    "### 요일별 analysis"
   ]
  },
  {
   "cell_type": "code",
   "execution_count": 14,
   "id": "f0e16dab",
   "metadata": {},
   "outputs": [
    {
     "data": {
      "text/html": [
       "<div>\n",
       "<style scoped>\n",
       "    .dataframe tbody tr th:only-of-type {\n",
       "        vertical-align: middle;\n",
       "    }\n",
       "\n",
       "    .dataframe tbody tr th {\n",
       "        vertical-align: top;\n",
       "    }\n",
       "\n",
       "    .dataframe thead th {\n",
       "        text-align: right;\n",
       "    }\n",
       "</style>\n",
       "<table border=\"1\" class=\"dataframe\">\n",
       "  <thead>\n",
       "    <tr style=\"text-align: right;\">\n",
       "      <th></th>\n",
       "      <th>Day</th>\n",
       "      <th>Cases</th>\n",
       "    </tr>\n",
       "  </thead>\n",
       "  <tbody>\n",
       "    <tr>\n",
       "      <th>0</th>\n",
       "      <td>Friday</td>\n",
       "      <td>492074</td>\n",
       "    </tr>\n",
       "    <tr>\n",
       "      <th>1</th>\n",
       "      <td>Thursday</td>\n",
       "      <td>463477</td>\n",
       "    </tr>\n",
       "    <tr>\n",
       "      <th>2</th>\n",
       "      <td>Wednesday</td>\n",
       "      <td>455037</td>\n",
       "    </tr>\n",
       "    <tr>\n",
       "      <th>3</th>\n",
       "      <td>Tuesday</td>\n",
       "      <td>443968</td>\n",
       "    </tr>\n",
       "    <tr>\n",
       "      <th>4</th>\n",
       "      <td>Monday</td>\n",
       "      <td>419821</td>\n",
       "    </tr>\n",
       "    <tr>\n",
       "      <th>5</th>\n",
       "      <td>Saturday</td>\n",
       "      <td>311691</td>\n",
       "    </tr>\n",
       "    <tr>\n",
       "      <th>6</th>\n",
       "      <td>Sunday</td>\n",
       "      <td>259274</td>\n",
       "    </tr>\n",
       "  </tbody>\n",
       "</table>\n",
       "</div>"
      ],
      "text/plain": [
       "         Day   Cases\n",
       "0     Friday  492074\n",
       "1   Thursday  463477\n",
       "2  Wednesday  455037\n",
       "3    Tuesday  443968\n",
       "4     Monday  419821\n",
       "5   Saturday  311691\n",
       "6     Sunday  259274"
      ]
     },
     "execution_count": 14,
     "metadata": {},
     "output_type": "execute_result"
    }
   ],
   "source": [
    "day_df = pd.DataFrame(df.Start_Time.dt.day_name().value_counts()).reset_index().rename(columns={'index':'Day', 'Start_Time':'Cases'})\n",
    "day_df.sort_values(by = \"Cases\", ascending = False)"
   ]
  },
  {
   "cell_type": "code",
   "execution_count": 16,
   "id": "d8e2a39b",
   "metadata": {},
   "outputs": [
    {
     "data": {
      "text/html": [
       "<div>\n",
       "<style scoped>\n",
       "    .dataframe tbody tr th:only-of-type {\n",
       "        vertical-align: middle;\n",
       "    }\n",
       "\n",
       "    .dataframe tbody tr th {\n",
       "        vertical-align: top;\n",
       "    }\n",
       "\n",
       "    .dataframe thead th {\n",
       "        text-align: right;\n",
       "    }\n",
       "</style>\n",
       "<table border=\"1\" class=\"dataframe\">\n",
       "  <thead>\n",
       "    <tr style=\"text-align: right;\">\n",
       "      <th></th>\n",
       "      <th>Hours</th>\n",
       "      <th>Cases</th>\n",
       "    </tr>\n",
       "  </thead>\n",
       "  <tbody>\n",
       "    <tr>\n",
       "      <th>19</th>\n",
       "      <td>0</td>\n",
       "      <td>68800</td>\n",
       "    </tr>\n",
       "    <tr>\n",
       "      <th>20</th>\n",
       "      <td>1</td>\n",
       "      <td>59370</td>\n",
       "    </tr>\n",
       "    <tr>\n",
       "      <th>21</th>\n",
       "      <td>2</td>\n",
       "      <td>55443</td>\n",
       "    </tr>\n",
       "    <tr>\n",
       "      <th>23</th>\n",
       "      <td>3</td>\n",
       "      <td>48656</td>\n",
       "    </tr>\n",
       "    <tr>\n",
       "      <th>22</th>\n",
       "      <td>4</td>\n",
       "      <td>51805</td>\n",
       "    </tr>\n",
       "    <tr>\n",
       "      <th>17</th>\n",
       "      <td>5</td>\n",
       "      <td>80303</td>\n",
       "    </tr>\n",
       "    <tr>\n",
       "      <th>11</th>\n",
       "      <td>6</td>\n",
       "      <td>111160</td>\n",
       "    </tr>\n",
       "    <tr>\n",
       "      <th>7</th>\n",
       "      <td>7</td>\n",
       "      <td>135191</td>\n",
       "    </tr>\n",
       "    <tr>\n",
       "      <th>8</th>\n",
       "      <td>8</td>\n",
       "      <td>130879</td>\n",
       "    </tr>\n",
       "    <tr>\n",
       "      <th>12</th>\n",
       "      <td>9</td>\n",
       "      <td>108779</td>\n",
       "    </tr>\n",
       "    <tr>\n",
       "      <th>13</th>\n",
       "      <td>10</td>\n",
       "      <td>103926</td>\n",
       "    </tr>\n",
       "    <tr>\n",
       "      <th>10</th>\n",
       "      <td>11</td>\n",
       "      <td>113271</td>\n",
       "    </tr>\n",
       "    <tr>\n",
       "      <th>6</th>\n",
       "      <td>12</td>\n",
       "      <td>143715</td>\n",
       "    </tr>\n",
       "    <tr>\n",
       "      <th>5</th>\n",
       "      <td>13</td>\n",
       "      <td>166473</td>\n",
       "    </tr>\n",
       "    <tr>\n",
       "      <th>3</th>\n",
       "      <td>14</td>\n",
       "      <td>191480</td>\n",
       "    </tr>\n",
       "    <tr>\n",
       "      <th>2</th>\n",
       "      <td>15</td>\n",
       "      <td>214264</td>\n",
       "    </tr>\n",
       "    <tr>\n",
       "      <th>1</th>\n",
       "      <td>16</td>\n",
       "      <td>218385</td>\n",
       "    </tr>\n",
       "    <tr>\n",
       "      <th>0</th>\n",
       "      <td>17</td>\n",
       "      <td>220358</td>\n",
       "    </tr>\n",
       "    <tr>\n",
       "      <th>4</th>\n",
       "      <td>18</td>\n",
       "      <td>168982</td>\n",
       "    </tr>\n",
       "    <tr>\n",
       "      <th>9</th>\n",
       "      <td>19</td>\n",
       "      <td>116911</td>\n",
       "    </tr>\n",
       "    <tr>\n",
       "      <th>14</th>\n",
       "      <td>20</td>\n",
       "      <td>94682</td>\n",
       "    </tr>\n",
       "    <tr>\n",
       "      <th>15</th>\n",
       "      <td>21</td>\n",
       "      <td>87078</td>\n",
       "    </tr>\n",
       "    <tr>\n",
       "      <th>16</th>\n",
       "      <td>22</td>\n",
       "      <td>81188</td>\n",
       "    </tr>\n",
       "    <tr>\n",
       "      <th>18</th>\n",
       "      <td>23</td>\n",
       "      <td>74243</td>\n",
       "    </tr>\n",
       "  </tbody>\n",
       "</table>\n",
       "</div>"
      ],
      "text/plain": [
       "    Hours   Cases\n",
       "19      0   68800\n",
       "20      1   59370\n",
       "21      2   55443\n",
       "23      3   48656\n",
       "22      4   51805\n",
       "17      5   80303\n",
       "11      6  111160\n",
       "7       7  135191\n",
       "8       8  130879\n",
       "12      9  108779\n",
       "13     10  103926\n",
       "10     11  113271\n",
       "6      12  143715\n",
       "5      13  166473\n",
       "3      14  191480\n",
       "2      15  214264\n",
       "1      16  218385\n",
       "0      17  220358\n",
       "4      18  168982\n",
       "9      19  116911\n",
       "14     20   94682\n",
       "15     21   87078\n",
       "16     22   81188\n",
       "18     23   74243"
      ]
     },
     "execution_count": 16,
     "metadata": {},
     "output_type": "execute_result"
    }
   ],
   "source": [
    "## HOUR ANALYSIS \n",
    "hour_df = pd.DataFrame(df.Start_Time.dt.hour.value_counts()).reset_index().rename(columns={'index':'Hours', 'Start_Time':'Cases'}).sort_values('Hours')\n",
    "hour_df"
   ]
  },
  {
   "cell_type": "markdown",
   "id": "bcf4fa07",
   "metadata": {},
   "source": [
    "## load condition Analysis \n"
   ]
  },
  {
   "cell_type": "code",
   "execution_count": 15,
   "id": "48000eb0",
   "metadata": {},
   "outputs": [
    {
     "data": {
      "image/png": "[encoded data removed]",
      "text/plain": [
       "<Figure size 1152x1440 with 8 Axes>"
      ]
     },
     "metadata": {
      "needs_background": "light"
     },
     "output_type": "display_data"
    }
   ],
   "source": [
    "fig, ((ax1, ax2), (ax3, ax4), (ax5, ax6), (ax7, ax8)) = plt.subplots(nrows=4, ncols=2, figsize = (16,20))"
   ]
  },
  {
   "cell_type": "code",
   "execution_count": 16,
   "id": "7cc95778",
   "metadata": {},
   "outputs": [],
   "source": [
    "road_conditions = ['Bump', 'Crossing', 'Give_Way', 'Junction', 'Stop', 'No_Exit', 'Traffic_Signal', 'Turning_Loop']\n",
    "colors = [('#6662b3', '#00FF00'), ('#7881ff', '#0e1ce8'), ('#18f2c7', '#09ad8c'), ('#08ff83', '#02a352'), ('#ffcf87', '#f5ab3d'),\n",
    "         ('#f5f53d', '#949410'), ('#ff9187', '#ffc7c2'), ('tomato', '#008000')]\n",
    "count = 0"
   ]
  },
  {
   "cell_type": "code",
   "execution_count": 17,
   "id": "95a1b52c",
   "metadata": {},
   "outputs": [],
   "source": [
    "def func(pct, allvals):\n",
    "    absolute = int(round(pct/100*np.sum(allvals), 2))\n",
    "    return \"{:.2f}%\\n({:,d} Cases)\".format(pct, absolute)    \n"
   ]
  },
  {
   "cell_type": "code",
   "execution_count": 32,
   "id": "7b2be4f3",
   "metadata": {},
   "outputs": [
    {
     "name": "stderr",
     "output_type": "stream",
     "text": [
      "findfont: Font family ['Microsoft JhengHei UI Light'] not found. Falling back to DejaVu Sans.\n",
      "findfont: Font family ['Microsoft JhengHei UI Light'] not found. Falling back to DejaVu Sans.\n"
     ]
    },
    {
     "data": {
      "image/png": "[encoded data removed]",
      "text/plain": [
       "<Figure size 1152x1440 with 8 Axes>"
      ]
     },
     "metadata": {},
     "output_type": "display_data"
    }
   ],
   "source": [
    "fig, ((ax1, ax2), (ax3, ax4), (ax5, ax6), (ax7, ax8)) = plt.subplots(nrows=4, ncols=2, figsize = (16,20))\n",
    "\n",
    "road_conditions = ['Bump', 'Crossing', 'Give_Way', 'Junction', 'Stop', 'No_Exit', 'Traffic_Signal', 'Turning_Loop']\n",
    "colors = [('#6662b3', '#00FF00'), ('#7881ff', '#0e1ce8'), ('#18f2c7', '#09ad8c'), ('#08ff83', '#02a352'), ('#ffcf87', '#f5ab3d'),\n",
    "         ('#f5f53d', '#949410'), ('#ff9187', '#ffc7c2'), ('tomato', '#008000')]    \n",
    "count = 0\n",
    "\n",
    "def func(pct, allvals):\n",
    "    absolute = int(round(pct/100*np.sum(allvals), 2))\n",
    "    return \"{:.2f}%\\n({:,d} Cases)\".format(pct, absolute)    \n",
    "\n",
    "for i in [ax1, ax2, ax3, ax4, ax5, ax6, ax7, ax8]:\n",
    "    \n",
    "    size = list(df[road_conditions[count]].value_counts())\n",
    "    if len(size) != 2:\n",
    "        size.append(0)\n",
    "    \n",
    "    labels = ['False', 'True']\n",
    "    \n",
    "    \n",
    "    \n",
    "    i.pie(size, labels = labels, colors = colors[count],\n",
    "                    autopct = lambda pct: func(pct, size), labeldistance=1.1,\n",
    "                    textprops={'fontsize': 12}, explode=[0, 0.2])\n",
    "\n",
    "    title = '\\nPresence of {}'.format(road_conditions[count])\n",
    "\n",
    "    i.set_title(title, fontsize = 18, color='grey')\n",
    "    \n",
    "    count += 1"
   ]
  },
  {
   "cell_type": "markdown",
   "id": "70843154",
   "metadata": {},
   "source": [
    "### SPSS 전처리"
   ]
  },
  {
   "cell_type": "markdown",
   "id": "9e003d60",
   "metadata": {},
   "source": [
    "####  CITY별 ZIPCODE 건수 "
   ]
  },
  {
   "cell_type": "code",
   "execution_count": 18,
   "id": "86700dae",
   "metadata": {},
   "outputs": [],
   "source": [
    "pd.options.display.max_columns=None"
   ]
  },
  {
   "cell_type": "code",
   "execution_count": 19,
   "id": "5c9d6aee",
   "metadata": {},
   "outputs": [
    {
     "data": {
      "text/plain": [
       "City        Zipcode   \n",
       "Aaronsburg  16820          4\n",
       "            16820-9115     3\n",
       "            16820-9113     1\n",
       "            16820-9307     1\n",
       "Abbeville   29620         14\n",
       "                          ..\n",
       "Zuni        23898-2406     1\n",
       "            23898-2813     1\n",
       "            23898-2857     1\n",
       "Zwingle     52079          7\n",
       "            52079-9603     4\n",
       "Name: Zipcode, Length: 363229, dtype: int64"
      ]
     },
     "execution_count": 19,
     "metadata": {},
     "output_type": "execute_result"
    }
   ],
   "source": [
    "## ZIPCODE는  주와 다를게 없음 (주에 대한 번호, 예) 경기도 전화번호 031 )\n",
    "df.groupby(\"City\")[\"Zipcode\"].value_counts()"
   ]
  },
  {
   "cell_type": "markdown",
   "id": "c714b93e",
   "metadata": {},
   "source": [
    "#### T0P 5 ACCIDENT CASES CITY 추출 "
   ]
  },
  {
   "cell_type": "code",
   "execution_count": 182,
   "id": "1316802a",
   "metadata": {},
   "outputs": [],
   "source": [
    "cond1 = (df[\"City\"] == \"Miami\")\n",
    "cond2 = (df[\"City\"] == \"Los Angeles\")\n",
    "cond3 = (df[\"City\"] == \"Orlando\")\n",
    "cond4 = (df[\"City\"] == \"Dallas\")\n",
    "cond5 = (df[\"City\"] == \"Houston\")"
   ]
  },
  {
   "cell_type": "code",
   "execution_count": 183,
   "id": "1c18c30e",
   "metadata": {
    "scrolled": false
   },
   "outputs": [
    {
     "data": {
      "text/html": [
       "<div>\n",
       "<style scoped>\n",
       "    .dataframe tbody tr th:only-of-type {\n",
       "        vertical-align: middle;\n",
       "    }\n",
       "\n",
       "    .dataframe tbody tr th {\n",
       "        vertical-align: top;\n",
       "    }\n",
       "\n",
       "    .dataframe thead th {\n",
       "        text-align: right;\n",
       "    }\n",
       "</style>\n",
       "<table border=\"1\" class=\"dataframe\">\n",
       "  <thead>\n",
       "    <tr style=\"text-align: right;\">\n",
       "      <th></th>\n",
       "      <th>ID</th>\n",
       "      <th>Severity</th>\n",
       "      <th>Start_Time</th>\n",
       "      <th>End_Time</th>\n",
       "      <th>Start_Lat</th>\n",
       "      <th>Start_Lng</th>\n",
       "      <th>End_Lat</th>\n",
       "      <th>End_Lng</th>\n",
       "      <th>Distance(mi)</th>\n",
       "      <th>Description</th>\n",
       "      <th>Number</th>\n",
       "      <th>Street</th>\n",
       "      <th>Side</th>\n",
       "      <th>City</th>\n",
       "      <th>County</th>\n",
       "      <th>State</th>\n",
       "      <th>Zipcode</th>\n",
       "      <th>Country</th>\n",
       "      <th>Timezone</th>\n",
       "      <th>Airport_Code</th>\n",
       "      <th>Weather_Timestamp</th>\n",
       "      <th>Temperature(F)</th>\n",
       "      <th>Wind_Chill(F)</th>\n",
       "      <th>Humidity(%)</th>\n",
       "      <th>Pressure(in)</th>\n",
       "      <th>Visibility(mi)</th>\n",
       "      <th>Wind_Direction</th>\n",
       "      <th>Wind_Speed(mph)</th>\n",
       "      <th>Precipitation(in)</th>\n",
       "      <th>Weather_Condition</th>\n",
       "      <th>Amenity</th>\n",
       "      <th>Bump</th>\n",
       "      <th>Crossing</th>\n",
       "      <th>Give_Way</th>\n",
       "      <th>Junction</th>\n",
       "      <th>No_Exit</th>\n",
       "      <th>Railway</th>\n",
       "      <th>Roundabout</th>\n",
       "      <th>Station</th>\n",
       "      <th>Stop</th>\n",
       "      <th>Traffic_Calming</th>\n",
       "      <th>Traffic_Signal</th>\n",
       "      <th>Turning_Loop</th>\n",
       "      <th>Sunrise_Sunset</th>\n",
       "      <th>Civil_Twilight</th>\n",
       "      <th>Nautical_Twilight</th>\n",
       "      <th>Astronomical_Twilight</th>\n",
       "    </tr>\n",
       "  </thead>\n",
       "  <tbody>\n",
       "    <tr>\n",
       "      <th>5235</th>\n",
       "      <td>A-5236</td>\n",
       "      <td>2</td>\n",
       "      <td>2016-03-22 19:36:44</td>\n",
       "      <td>2016-03-23 01:36:44</td>\n",
       "      <td>34.09256</td>\n",
       "      <td>-118.206220</td>\n",
       "      <td>34.092560</td>\n",
       "      <td>-118.206220</td>\n",
       "      <td>0.000</td>\n",
       "      <td>At Avenue 43 - Accident.</td>\n",
       "      <td>NaN</td>\n",
       "      <td>CA-110 N</td>\n",
       "      <td>R</td>\n",
       "      <td>Los Angeles</td>\n",
       "      <td>Los Angeles</td>\n",
       "      <td>CA</td>\n",
       "      <td>90031</td>\n",
       "      <td>US</td>\n",
       "      <td>US/Pacific</td>\n",
       "      <td>KCQT</td>\n",
       "      <td>2016-03-22 19:47:00</td>\n",
       "      <td>64.0</td>\n",
       "      <td>NaN</td>\n",
       "      <td>24.0</td>\n",
       "      <td>30.00</td>\n",
       "      <td>10.0</td>\n",
       "      <td>NNW</td>\n",
       "      <td>9.2</td>\n",
       "      <td>NaN</td>\n",
       "      <td>Clear</td>\n",
       "      <td>False</td>\n",
       "      <td>False</td>\n",
       "      <td>False</td>\n",
       "      <td>False</td>\n",
       "      <td>False</td>\n",
       "      <td>False</td>\n",
       "      <td>False</td>\n",
       "      <td>False</td>\n",
       "      <td>False</td>\n",
       "      <td>True</td>\n",
       "      <td>False</td>\n",
       "      <td>False</td>\n",
       "      <td>False</td>\n",
       "      <td>Night</td>\n",
       "      <td>Night</td>\n",
       "      <td>Day</td>\n",
       "      <td>Day</td>\n",
       "    </tr>\n",
       "    <tr>\n",
       "      <th>5238</th>\n",
       "      <td>A-5239</td>\n",
       "      <td>2</td>\n",
       "      <td>2016-03-22 20:59:43</td>\n",
       "      <td>2016-03-23 02:59:43</td>\n",
       "      <td>33.94819</td>\n",
       "      <td>-118.279730</td>\n",
       "      <td>33.946760</td>\n",
       "      <td>-118.279750</td>\n",
       "      <td>0.099</td>\n",
       "      <td>At Century Blvd - Accident.</td>\n",
       "      <td>NaN</td>\n",
       "      <td>I-110 S</td>\n",
       "      <td>R</td>\n",
       "      <td>Los Angeles</td>\n",
       "      <td>Los Angeles</td>\n",
       "      <td>CA</td>\n",
       "      <td>90003</td>\n",
       "      <td>US</td>\n",
       "      <td>US/Pacific</td>\n",
       "      <td>KHHR</td>\n",
       "      <td>2016-03-22 20:53:00</td>\n",
       "      <td>64.0</td>\n",
       "      <td>NaN</td>\n",
       "      <td>23.0</td>\n",
       "      <td>30.02</td>\n",
       "      <td>10.0</td>\n",
       "      <td>NNW</td>\n",
       "      <td>11.5</td>\n",
       "      <td>NaN</td>\n",
       "      <td>Clear</td>\n",
       "      <td>False</td>\n",
       "      <td>False</td>\n",
       "      <td>False</td>\n",
       "      <td>False</td>\n",
       "      <td>False</td>\n",
       "      <td>False</td>\n",
       "      <td>False</td>\n",
       "      <td>False</td>\n",
       "      <td>False</td>\n",
       "      <td>False</td>\n",
       "      <td>False</td>\n",
       "      <td>False</td>\n",
       "      <td>False</td>\n",
       "      <td>Night</td>\n",
       "      <td>Night</td>\n",
       "      <td>Night</td>\n",
       "      <td>Night</td>\n",
       "    </tr>\n",
       "    <tr>\n",
       "      <th>5253</th>\n",
       "      <td>A-5254</td>\n",
       "      <td>3</td>\n",
       "      <td>2016-03-23 07:59:47</td>\n",
       "      <td>2016-03-23 13:59:47</td>\n",
       "      <td>34.02330</td>\n",
       "      <td>-118.172880</td>\n",
       "      <td>34.021380</td>\n",
       "      <td>-118.173390</td>\n",
       "      <td>0.136</td>\n",
       "      <td>At Whittier Blvd/Olympic Blvd - Accident.</td>\n",
       "      <td>NaN</td>\n",
       "      <td>Long Beach Fwy S</td>\n",
       "      <td>R</td>\n",
       "      <td>Los Angeles</td>\n",
       "      <td>Los Angeles</td>\n",
       "      <td>CA</td>\n",
       "      <td>90022</td>\n",
       "      <td>US</td>\n",
       "      <td>US/Pacific</td>\n",
       "      <td>KCQT</td>\n",
       "      <td>2016-03-23 07:47:00</td>\n",
       "      <td>55.9</td>\n",
       "      <td>NaN</td>\n",
       "      <td>53.0</td>\n",
       "      <td>30.11</td>\n",
       "      <td>10.0</td>\n",
       "      <td>Calm</td>\n",
       "      <td>NaN</td>\n",
       "      <td>NaN</td>\n",
       "      <td>Clear</td>\n",
       "      <td>False</td>\n",
       "      <td>False</td>\n",
       "      <td>False</td>\n",
       "      <td>False</td>\n",
       "      <td>True</td>\n",
       "      <td>False</td>\n",
       "      <td>False</td>\n",
       "      <td>False</td>\n",
       "      <td>False</td>\n",
       "      <td>False</td>\n",
       "      <td>False</td>\n",
       "      <td>False</td>\n",
       "      <td>False</td>\n",
       "      <td>Day</td>\n",
       "      <td>Day</td>\n",
       "      <td>Day</td>\n",
       "      <td>Day</td>\n",
       "    </tr>\n",
       "    <tr>\n",
       "      <th>5271</th>\n",
       "      <td>A-5272</td>\n",
       "      <td>2</td>\n",
       "      <td>2016-03-23 11:50:32</td>\n",
       "      <td>2016-03-23 17:50:32</td>\n",
       "      <td>34.14470</td>\n",
       "      <td>-118.278650</td>\n",
       "      <td>34.141040</td>\n",
       "      <td>-118.277840</td>\n",
       "      <td>0.257</td>\n",
       "      <td>At Colorado St - Accident.</td>\n",
       "      <td>NaN</td>\n",
       "      <td>Golden State Fwy S</td>\n",
       "      <td>R</td>\n",
       "      <td>Los Angeles</td>\n",
       "      <td>Los Angeles</td>\n",
       "      <td>CA</td>\n",
       "      <td>90027</td>\n",
       "      <td>US</td>\n",
       "      <td>US/Pacific</td>\n",
       "      <td>KCQT</td>\n",
       "      <td>2016-03-23 11:47:00</td>\n",
       "      <td>73.9</td>\n",
       "      <td>NaN</td>\n",
       "      <td>14.0</td>\n",
       "      <td>30.15</td>\n",
       "      <td>10.0</td>\n",
       "      <td>Calm</td>\n",
       "      <td>NaN</td>\n",
       "      <td>NaN</td>\n",
       "      <td>Clear</td>\n",
       "      <td>False</td>\n",
       "      <td>False</td>\n",
       "      <td>False</td>\n",
       "      <td>False</td>\n",
       "      <td>False</td>\n",
       "      <td>False</td>\n",
       "      <td>False</td>\n",
       "      <td>False</td>\n",
       "      <td>False</td>\n",
       "      <td>False</td>\n",
       "      <td>False</td>\n",
       "      <td>False</td>\n",
       "      <td>False</td>\n",
       "      <td>Day</td>\n",
       "      <td>Day</td>\n",
       "      <td>Day</td>\n",
       "      <td>Day</td>\n",
       "    </tr>\n",
       "    <tr>\n",
       "      <th>5273</th>\n",
       "      <td>A-5274</td>\n",
       "      <td>2</td>\n",
       "      <td>2016-03-23 12:16:45</td>\n",
       "      <td>2016-03-23 18:16:45</td>\n",
       "      <td>34.09914</td>\n",
       "      <td>-118.251853</td>\n",
       "      <td>34.099817</td>\n",
       "      <td>-118.251396</td>\n",
       "      <td>0.054</td>\n",
       "      <td>At I-5/Golden State Fwy - Accident. Left lane ...</td>\n",
       "      <td>NaN</td>\n",
       "      <td>CA-2 S</td>\n",
       "      <td>R</td>\n",
       "      <td>Los Angeles</td>\n",
       "      <td>Los Angeles</td>\n",
       "      <td>CA</td>\n",
       "      <td>90039</td>\n",
       "      <td>US</td>\n",
       "      <td>US/Pacific</td>\n",
       "      <td>KCQT</td>\n",
       "      <td>2016-03-23 11:47:00</td>\n",
       "      <td>73.9</td>\n",
       "      <td>NaN</td>\n",
       "      <td>14.0</td>\n",
       "      <td>30.15</td>\n",
       "      <td>10.0</td>\n",
       "      <td>Calm</td>\n",
       "      <td>NaN</td>\n",
       "      <td>NaN</td>\n",
       "      <td>Clear</td>\n",
       "      <td>False</td>\n",
       "      <td>False</td>\n",
       "      <td>False</td>\n",
       "      <td>False</td>\n",
       "      <td>False</td>\n",
       "      <td>False</td>\n",
       "      <td>False</td>\n",
       "      <td>False</td>\n",
       "      <td>False</td>\n",
       "      <td>False</td>\n",
       "      <td>False</td>\n",
       "      <td>False</td>\n",
       "      <td>False</td>\n",
       "      <td>Day</td>\n",
       "      <td>Day</td>\n",
       "      <td>Day</td>\n",
       "      <td>Day</td>\n",
       "    </tr>\n",
       "    <tr>\n",
       "      <th>...</th>\n",
       "      <td>...</td>\n",
       "      <td>...</td>\n",
       "      <td>...</td>\n",
       "      <td>...</td>\n",
       "      <td>...</td>\n",
       "      <td>...</td>\n",
       "      <td>...</td>\n",
       "      <td>...</td>\n",
       "      <td>...</td>\n",
       "      <td>...</td>\n",
       "      <td>...</td>\n",
       "      <td>...</td>\n",
       "      <td>...</td>\n",
       "      <td>...</td>\n",
       "      <td>...</td>\n",
       "      <td>...</td>\n",
       "      <td>...</td>\n",
       "      <td>...</td>\n",
       "      <td>...</td>\n",
       "      <td>...</td>\n",
       "      <td>...</td>\n",
       "      <td>...</td>\n",
       "      <td>...</td>\n",
       "      <td>...</td>\n",
       "      <td>...</td>\n",
       "      <td>...</td>\n",
       "      <td>...</td>\n",
       "      <td>...</td>\n",
       "      <td>...</td>\n",
       "      <td>...</td>\n",
       "      <td>...</td>\n",
       "      <td>...</td>\n",
       "      <td>...</td>\n",
       "      <td>...</td>\n",
       "      <td>...</td>\n",
       "      <td>...</td>\n",
       "      <td>...</td>\n",
       "      <td>...</td>\n",
       "      <td>...</td>\n",
       "      <td>...</td>\n",
       "      <td>...</td>\n",
       "      <td>...</td>\n",
       "      <td>...</td>\n",
       "      <td>...</td>\n",
       "      <td>...</td>\n",
       "      <td>...</td>\n",
       "      <td>...</td>\n",
       "    </tr>\n",
       "    <tr>\n",
       "      <th>2845081</th>\n",
       "      <td>A-2845082</td>\n",
       "      <td>3</td>\n",
       "      <td>2019-08-23 17:32:09</td>\n",
       "      <td>2019-08-23 18:02:03</td>\n",
       "      <td>29.97181</td>\n",
       "      <td>-95.562340</td>\n",
       "      <td>29.960230</td>\n",
       "      <td>-95.546779</td>\n",
       "      <td>1.228</td>\n",
       "      <td>At Grant Rd/Schroeder Rd - Accident. Three lan...</td>\n",
       "      <td>NaN</td>\n",
       "      <td>TX-249 S</td>\n",
       "      <td>R</td>\n",
       "      <td>Houston</td>\n",
       "      <td>Harris</td>\n",
       "      <td>TX</td>\n",
       "      <td>77070</td>\n",
       "      <td>US</td>\n",
       "      <td>US/Central</td>\n",
       "      <td>KDWH</td>\n",
       "      <td>2019-08-23 17:53:00</td>\n",
       "      <td>83.0</td>\n",
       "      <td>83.0</td>\n",
       "      <td>74.0</td>\n",
       "      <td>29.72</td>\n",
       "      <td>10.0</td>\n",
       "      <td>SE</td>\n",
       "      <td>12.0</td>\n",
       "      <td>0.0</td>\n",
       "      <td>Fair</td>\n",
       "      <td>False</td>\n",
       "      <td>False</td>\n",
       "      <td>False</td>\n",
       "      <td>False</td>\n",
       "      <td>True</td>\n",
       "      <td>False</td>\n",
       "      <td>False</td>\n",
       "      <td>False</td>\n",
       "      <td>False</td>\n",
       "      <td>False</td>\n",
       "      <td>False</td>\n",
       "      <td>False</td>\n",
       "      <td>False</td>\n",
       "      <td>Day</td>\n",
       "      <td>Day</td>\n",
       "      <td>Day</td>\n",
       "      <td>Day</td>\n",
       "    </tr>\n",
       "    <tr>\n",
       "      <th>2845305</th>\n",
       "      <td>A-2845306</td>\n",
       "      <td>3</td>\n",
       "      <td>2019-08-23 04:04:48</td>\n",
       "      <td>2019-08-23 04:33:53</td>\n",
       "      <td>34.07579</td>\n",
       "      <td>-118.276680</td>\n",
       "      <td>34.074310</td>\n",
       "      <td>-118.272250</td>\n",
       "      <td>0.273</td>\n",
       "      <td>At Benton Way/Rampart Blvd/Exit 5A - Accident.</td>\n",
       "      <td>NaN</td>\n",
       "      <td>Hollywood Fwy S</td>\n",
       "      <td>R</td>\n",
       "      <td>Los Angeles</td>\n",
       "      <td>Los Angeles</td>\n",
       "      <td>CA</td>\n",
       "      <td>90026</td>\n",
       "      <td>US</td>\n",
       "      <td>US/Pacific</td>\n",
       "      <td>KCQT</td>\n",
       "      <td>2019-08-23 03:52:00</td>\n",
       "      <td>67.0</td>\n",
       "      <td>67.0</td>\n",
       "      <td>79.0</td>\n",
       "      <td>29.62</td>\n",
       "      <td>7.0</td>\n",
       "      <td>CALM</td>\n",
       "      <td>0.0</td>\n",
       "      <td>0.0</td>\n",
       "      <td>Cloudy</td>\n",
       "      <td>False</td>\n",
       "      <td>False</td>\n",
       "      <td>False</td>\n",
       "      <td>False</td>\n",
       "      <td>False</td>\n",
       "      <td>False</td>\n",
       "      <td>False</td>\n",
       "      <td>False</td>\n",
       "      <td>False</td>\n",
       "      <td>False</td>\n",
       "      <td>False</td>\n",
       "      <td>False</td>\n",
       "      <td>False</td>\n",
       "      <td>Night</td>\n",
       "      <td>Night</td>\n",
       "      <td>Night</td>\n",
       "      <td>Night</td>\n",
       "    </tr>\n",
       "    <tr>\n",
       "      <th>2845309</th>\n",
       "      <td>A-2845310</td>\n",
       "      <td>2</td>\n",
       "      <td>2019-08-23 12:52:31</td>\n",
       "      <td>2019-08-23 13:20:14</td>\n",
       "      <td>34.02379</td>\n",
       "      <td>-118.276390</td>\n",
       "      <td>34.025760</td>\n",
       "      <td>-118.275290</td>\n",
       "      <td>0.150</td>\n",
       "      <td>At 28th St - Accident.</td>\n",
       "      <td>NaN</td>\n",
       "      <td>Harbor Fwy N</td>\n",
       "      <td>R</td>\n",
       "      <td>Los Angeles</td>\n",
       "      <td>Los Angeles</td>\n",
       "      <td>CA</td>\n",
       "      <td>90007</td>\n",
       "      <td>US</td>\n",
       "      <td>US/Pacific</td>\n",
       "      <td>KCQT</td>\n",
       "      <td>2019-08-23 12:52:00</td>\n",
       "      <td>81.0</td>\n",
       "      <td>81.0</td>\n",
       "      <td>49.0</td>\n",
       "      <td>29.66</td>\n",
       "      <td>8.0</td>\n",
       "      <td>CALM</td>\n",
       "      <td>0.0</td>\n",
       "      <td>0.0</td>\n",
       "      <td>Fair</td>\n",
       "      <td>False</td>\n",
       "      <td>False</td>\n",
       "      <td>False</td>\n",
       "      <td>False</td>\n",
       "      <td>False</td>\n",
       "      <td>False</td>\n",
       "      <td>False</td>\n",
       "      <td>False</td>\n",
       "      <td>False</td>\n",
       "      <td>False</td>\n",
       "      <td>False</td>\n",
       "      <td>False</td>\n",
       "      <td>False</td>\n",
       "      <td>Day</td>\n",
       "      <td>Day</td>\n",
       "      <td>Day</td>\n",
       "      <td>Day</td>\n",
       "    </tr>\n",
       "    <tr>\n",
       "      <th>2845312</th>\n",
       "      <td>A-2845313</td>\n",
       "      <td>2</td>\n",
       "      <td>2019-08-23 13:42:50</td>\n",
       "      <td>2019-08-23 14:10:06</td>\n",
       "      <td>34.07061</td>\n",
       "      <td>-118.263910</td>\n",
       "      <td>34.069740</td>\n",
       "      <td>-118.261550</td>\n",
       "      <td>0.148</td>\n",
       "      <td>At Glendale Blvd/Union Ave - Accident.</td>\n",
       "      <td>NaN</td>\n",
       "      <td>Hollywood Fwy S</td>\n",
       "      <td>R</td>\n",
       "      <td>Los Angeles</td>\n",
       "      <td>Los Angeles</td>\n",
       "      <td>CA</td>\n",
       "      <td>90026</td>\n",
       "      <td>US</td>\n",
       "      <td>US/Pacific</td>\n",
       "      <td>KCQT</td>\n",
       "      <td>2019-08-23 13:52:00</td>\n",
       "      <td>82.0</td>\n",
       "      <td>82.0</td>\n",
       "      <td>47.0</td>\n",
       "      <td>29.65</td>\n",
       "      <td>9.0</td>\n",
       "      <td>CALM</td>\n",
       "      <td>0.0</td>\n",
       "      <td>0.0</td>\n",
       "      <td>Fair</td>\n",
       "      <td>False</td>\n",
       "      <td>False</td>\n",
       "      <td>False</td>\n",
       "      <td>False</td>\n",
       "      <td>True</td>\n",
       "      <td>False</td>\n",
       "      <td>False</td>\n",
       "      <td>False</td>\n",
       "      <td>False</td>\n",
       "      <td>False</td>\n",
       "      <td>False</td>\n",
       "      <td>False</td>\n",
       "      <td>False</td>\n",
       "      <td>Day</td>\n",
       "      <td>Day</td>\n",
       "      <td>Day</td>\n",
       "      <td>Day</td>\n",
       "    </tr>\n",
       "    <tr>\n",
       "      <th>2845324</th>\n",
       "      <td>A-2845325</td>\n",
       "      <td>2</td>\n",
       "      <td>2019-08-23 15:45:43</td>\n",
       "      <td>2019-08-23 16:14:31</td>\n",
       "      <td>34.04365</td>\n",
       "      <td>-118.443730</td>\n",
       "      <td>34.049340</td>\n",
       "      <td>-118.448420</td>\n",
       "      <td>0.476</td>\n",
       "      <td>At CA-2/Santa Monica Blvd/Exit 55A - Accident.</td>\n",
       "      <td>NaN</td>\n",
       "      <td>I-405 N</td>\n",
       "      <td>R</td>\n",
       "      <td>Los Angeles</td>\n",
       "      <td>Los Angeles</td>\n",
       "      <td>CA</td>\n",
       "      <td>90025</td>\n",
       "      <td>US</td>\n",
       "      <td>US/Pacific</td>\n",
       "      <td>KSMO</td>\n",
       "      <td>2019-08-23 15:51:00</td>\n",
       "      <td>74.0</td>\n",
       "      <td>74.0</td>\n",
       "      <td>66.0</td>\n",
       "      <td>29.64</td>\n",
       "      <td>10.0</td>\n",
       "      <td>W</td>\n",
       "      <td>8.0</td>\n",
       "      <td>0.0</td>\n",
       "      <td>Fair</td>\n",
       "      <td>False</td>\n",
       "      <td>False</td>\n",
       "      <td>False</td>\n",
       "      <td>False</td>\n",
       "      <td>True</td>\n",
       "      <td>False</td>\n",
       "      <td>False</td>\n",
       "      <td>False</td>\n",
       "      <td>False</td>\n",
       "      <td>False</td>\n",
       "      <td>False</td>\n",
       "      <td>False</td>\n",
       "      <td>False</td>\n",
       "      <td>Day</td>\n",
       "      <td>Day</td>\n",
       "      <td>Day</td>\n",
       "      <td>Day</td>\n",
       "    </tr>\n",
       "  </tbody>\n",
       "</table>\n",
       "<p>312040 rows × 47 columns</p>\n",
       "</div>"
      ],
      "text/plain": [
       "                ID  Severity          Start_Time            End_Time  \\\n",
       "5235        A-5236         2 2016-03-22 19:36:44 2016-03-23 01:36:44   \n",
       "5238        A-5239         2 2016-03-22 20:59:43 2016-03-23 02:59:43   \n",
       "5253        A-5254         3 2016-03-23 07:59:47 2016-03-23 13:59:47   \n",
       "5271        A-5272         2 2016-03-23 11:50:32 2016-03-23 17:50:32   \n",
       "5273        A-5274         2 2016-03-23 12:16:45 2016-03-23 18:16:45   \n",
       "...            ...       ...                 ...                 ...   \n",
       "2845081  A-2845082         3 2019-08-23 17:32:09 2019-08-23 18:02:03   \n",
       "2845305  A-2845306         3 2019-08-23 04:04:48 2019-08-23 04:33:53   \n",
       "2845309  A-2845310         2 2019-08-23 12:52:31 2019-08-23 13:20:14   \n",
       "2845312  A-2845313         2 2019-08-23 13:42:50 2019-08-23 14:10:06   \n",
       "2845324  A-2845325         2 2019-08-23 15:45:43 2019-08-23 16:14:31   \n",
       "\n",
       "         Start_Lat   Start_Lng    End_Lat     End_Lng  Distance(mi)  \\\n",
       "5235      34.09256 -118.206220  34.092560 -118.206220         0.000   \n",
       "5238      33.94819 -118.279730  33.946760 -118.279750         0.099   \n",
       "5253      34.02330 -118.172880  34.021380 -118.173390         0.136   \n",
       "5271      34.14470 -118.278650  34.141040 -118.277840         0.257   \n",
       "5273      34.09914 -118.251853  34.099817 -118.251396         0.054   \n",
       "...            ...         ...        ...         ...           ...   \n",
       "2845081   29.97181  -95.562340  29.960230  -95.546779         1.228   \n",
       "2845305   34.07579 -118.276680  34.074310 -118.272250         0.273   \n",
       "2845309   34.02379 -118.276390  34.025760 -118.275290         0.150   \n",
       "2845312   34.07061 -118.263910  34.069740 -118.261550         0.148   \n",
       "2845324   34.04365 -118.443730  34.049340 -118.448420         0.476   \n",
       "\n",
       "                                               Description  Number  \\\n",
       "5235                              At Avenue 43 - Accident.     NaN   \n",
       "5238                           At Century Blvd - Accident.     NaN   \n",
       "5253             At Whittier Blvd/Olympic Blvd - Accident.     NaN   \n",
       "5271                            At Colorado St - Accident.     NaN   \n",
       "5273     At I-5/Golden State Fwy - Accident. Left lane ...     NaN   \n",
       "...                                                    ...     ...   \n",
       "2845081  At Grant Rd/Schroeder Rd - Accident. Three lan...     NaN   \n",
       "2845305     At Benton Way/Rampart Blvd/Exit 5A - Accident.     NaN   \n",
       "2845309                             At 28th St - Accident.     NaN   \n",
       "2845312             At Glendale Blvd/Union Ave - Accident.     NaN   \n",
       "2845324     At CA-2/Santa Monica Blvd/Exit 55A - Accident.     NaN   \n",
       "\n",
       "                     Street Side         City       County State Zipcode  \\\n",
       "5235               CA-110 N    R  Los Angeles  Los Angeles    CA   90031   \n",
       "5238                I-110 S    R  Los Angeles  Los Angeles    CA   90003   \n",
       "5253       Long Beach Fwy S    R  Los Angeles  Los Angeles    CA   90022   \n",
       "5271     Golden State Fwy S    R  Los Angeles  Los Angeles    CA   90027   \n",
       "5273                 CA-2 S    R  Los Angeles  Los Angeles    CA   90039   \n",
       "...                     ...  ...          ...          ...   ...     ...   \n",
       "2845081            TX-249 S    R      Houston       Harris    TX   77070   \n",
       "2845305     Hollywood Fwy S    R  Los Angeles  Los Angeles    CA   90026   \n",
       "2845309        Harbor Fwy N    R  Los Angeles  Los Angeles    CA   90007   \n",
       "2845312     Hollywood Fwy S    R  Los Angeles  Los Angeles    CA   90026   \n",
       "2845324             I-405 N    R  Los Angeles  Los Angeles    CA   90025   \n",
       "\n",
       "        Country    Timezone Airport_Code    Weather_Timestamp  Temperature(F)  \\\n",
       "5235         US  US/Pacific         KCQT  2016-03-22 19:47:00            64.0   \n",
       "5238         US  US/Pacific         KHHR  2016-03-22 20:53:00            64.0   \n",
       "5253         US  US/Pacific         KCQT  2016-03-23 07:47:00            55.9   \n",
       "5271         US  US/Pacific         KCQT  2016-03-23 11:47:00            73.9   \n",
       "5273         US  US/Pacific         KCQT  2016-03-23 11:47:00            73.9   \n",
       "...         ...         ...          ...                  ...             ...   \n",
       "2845081      US  US/Central         KDWH  2019-08-23 17:53:00            83.0   \n",
       "2845305      US  US/Pacific         KCQT  2019-08-23 03:52:00            67.0   \n",
       "2845309      US  US/Pacific         KCQT  2019-08-23 12:52:00            81.0   \n",
       "2845312      US  US/Pacific         KCQT  2019-08-23 13:52:00            82.0   \n",
       "2845324      US  US/Pacific         KSMO  2019-08-23 15:51:00            74.0   \n",
       "\n",
       "         Wind_Chill(F)  Humidity(%)  Pressure(in)  Visibility(mi)  \\\n",
       "5235               NaN         24.0         30.00            10.0   \n",
       "5238               NaN         23.0         30.02            10.0   \n",
       "5253               NaN         53.0         30.11            10.0   \n",
       "5271               NaN         14.0         30.15            10.0   \n",
       "5273               NaN         14.0         30.15            10.0   \n",
       "...                ...          ...           ...             ...   \n",
       "2845081           83.0         74.0         29.72            10.0   \n",
       "2845305           67.0         79.0         29.62             7.0   \n",
       "2845309           81.0         49.0         29.66             8.0   \n",
       "2845312           82.0         47.0         29.65             9.0   \n",
       "2845324           74.0         66.0         29.64            10.0   \n",
       "\n",
       "        Wind_Direction  Wind_Speed(mph)  Precipitation(in) Weather_Condition  \\\n",
       "5235               NNW              9.2                NaN             Clear   \n",
       "5238               NNW             11.5                NaN             Clear   \n",
       "5253              Calm              NaN                NaN             Clear   \n",
       "5271              Calm              NaN                NaN             Clear   \n",
       "5273              Calm              NaN                NaN             Clear   \n",
       "...                ...              ...                ...               ...   \n",
       "2845081             SE             12.0                0.0              Fair   \n",
       "2845305           CALM              0.0                0.0            Cloudy   \n",
       "2845309           CALM              0.0                0.0              Fair   \n",
       "2845312           CALM              0.0                0.0              Fair   \n",
       "2845324              W              8.0                0.0              Fair   \n",
       "\n",
       "         Amenity   Bump  Crossing  Give_Way  Junction  No_Exit  Railway  \\\n",
       "5235       False  False     False     False     False    False    False   \n",
       "5238       False  False     False     False     False    False    False   \n",
       "5253       False  False     False     False      True    False    False   \n",
       "5271       False  False     False     False     False    False    False   \n",
       "5273       False  False     False     False     False    False    False   \n",
       "...          ...    ...       ...       ...       ...      ...      ...   \n",
       "2845081    False  False     False     False      True    False    False   \n",
       "2845305    False  False     False     False     False    False    False   \n",
       "2845309    False  False     False     False     False    False    False   \n",
       "2845312    False  False     False     False      True    False    False   \n",
       "2845324    False  False     False     False      True    False    False   \n",
       "\n",
       "         Roundabout  Station   Stop  Traffic_Calming  Traffic_Signal  \\\n",
       "5235          False    False   True            False           False   \n",
       "5238          False    False  False            False           False   \n",
       "5253          False    False  False            False           False   \n",
       "5271          False    False  False            False           False   \n",
       "5273          False    False  False            False           False   \n",
       "...             ...      ...    ...              ...             ...   \n",
       "2845081       False    False  False            False           False   \n",
       "2845305       False    False  False            False           False   \n",
       "2845309       False    False  False            False           False   \n",
       "2845312       False    False  False            False           False   \n",
       "2845324       False    False  False            False           False   \n",
       "\n",
       "         Turning_Loop Sunrise_Sunset Civil_Twilight Nautical_Twilight  \\\n",
       "5235            False          Night          Night               Day   \n",
       "5238            False          Night          Night             Night   \n",
       "5253            False            Day            Day               Day   \n",
       "5271            False            Day            Day               Day   \n",
       "5273            False            Day            Day               Day   \n",
       "...               ...            ...            ...               ...   \n",
       "2845081         False            Day            Day               Day   \n",
       "2845305         False          Night          Night             Night   \n",
       "2845309         False            Day            Day               Day   \n",
       "2845312         False            Day            Day               Day   \n",
       "2845324         False            Day            Day               Day   \n",
       "\n",
       "        Astronomical_Twilight  \n",
       "5235                      Day  \n",
       "5238                    Night  \n",
       "5253                      Day  \n",
       "5271                      Day  \n",
       "5273                      Day  \n",
       "...                       ...  \n",
       "2845081                   Day  \n",
       "2845305                 Night  \n",
       "2845309                   Day  \n",
       "2845312                   Day  \n",
       "2845324                   Day  \n",
       "\n",
       "[312040 rows x 47 columns]"
      ]
     },
     "execution_count": 183,
     "metadata": {},
     "output_type": "execute_result"
    }
   ],
   "source": [
    "top5_city = df[cond1|cond2|cond3|cond4|cond5]\n",
    "# top5_city = df[cond1]\n",
    "top5_city"
   ]
  },
  {
   "cell_type": "code",
   "execution_count": 184,
   "id": "34f5e725",
   "metadata": {},
   "outputs": [
    {
     "data": {
      "text/plain": [
       "(312040, 47)"
      ]
     },
     "execution_count": 184,
     "metadata": {},
     "output_type": "execute_result"
    }
   ],
   "source": [
    "top5_city.shape"
   ]
  },
  {
   "cell_type": "code",
   "execution_count": 60,
   "id": "7c356ec3",
   "metadata": {},
   "outputs": [],
   "source": [
    "top5_city.to_csv(\"C:/Users/minja/Desktop/프로젝트/top5_city.csv\")"
   ]
  },
  {
   "cell_type": "code",
   "execution_count": 23,
   "id": "8037c4e7",
   "metadata": {},
   "outputs": [],
   "source": [
    "top5_city.to_excel(\"C:/Users/minja/Desktop/프로젝트/top5_city.xlsx\")"
   ]
  },
  {
   "cell_type": "markdown",
   "id": "7c897eab",
   "metadata": {},
   "source": [
    "## ---- 심층시작 ----"
   ]
  },
  {
   "cell_type": "markdown",
   "id": "cc488af3",
   "metadata": {},
   "source": [
    "## (2019 - 2020)  top5 도시 사고건 비교"
   ]
  },
  {
   "cell_type": "code",
   "execution_count": 185,
   "id": "8749ac66",
   "metadata": {
    "scrolled": true
   },
   "outputs": [
    {
     "data": {
      "text/plain": [
       "0         2016-02-08 06:37:08\n",
       "1         2016-02-08 11:56:20\n",
       "2         2016-02-08 12:15:39\n",
       "3         2016-02-08 12:51:45\n",
       "4         2016-02-08 13:53:43\n",
       "                  ...        \n",
       "2845337   2019-08-23 18:32:01\n",
       "2845338   2019-08-23 19:38:23\n",
       "2845339   2019-08-23 19:28:49\n",
       "2845340   2019-08-23 19:29:42\n",
       "2845341   2019-08-23 19:21:31\n",
       "Name: End_Time, Length: 2845342, dtype: datetime64[ns]"
      ]
     },
     "execution_count": 185,
     "metadata": {},
     "output_type": "execute_result"
    }
   ],
   "source": [
    "# 시간데이터로 자료형 변환\n",
    "df.Start_Time = pd.to_datetime(df.Start_Time)\n",
    "df.End_Time = pd.to_datetime(df.End_Time)\n",
    "df.Start_Time\n",
    "df.End_Time "
   ]
  },
  {
   "cell_type": "code",
   "execution_count": 186,
   "id": "6be3ec96",
   "metadata": {},
   "outputs": [],
   "source": [
    "df[\"year\"] = df[\"Start_Time\"].dt.year  #연도\n",
    "df[\"month\"] = df[\"Start_Time\"].dt.month #월\n",
    "df[\"day\"] = df[\"Start_Time\"].dt.day #일\n",
    "df[\"dayofweek\"] = df[\"Start_Time\"].dt.dayofweek #요일 (월= 0)"
   ]
  },
  {
   "cell_type": "code",
   "execution_count": 187,
   "id": "8e8a9e43",
   "metadata": {},
   "outputs": [],
   "source": [
    "#19,20 년도 filter\n",
    "df_filter = (df[\"year\"]==2019 ) | (df[\"year\"]==2020 )\n",
    "df_filter = df[df_filter]"
   ]
  },
  {
   "cell_type": "code",
   "execution_count": 188,
   "id": "5faa90a0",
   "metadata": {},
   "outputs": [],
   "source": [
    "# top5 도시 조건 적용\n",
    "cond_m = ( df_filter[\"City\"] == \"Miami\" )\n",
    "cond_l = ( df_filter[\"City\"] == \"Los Angeles\" )\n",
    "cond_o = ( df_filter[\"City\"] == \"Orlando\" )\n",
    "cond_d = ( df_filter[\"City\"] == \"Dallas\" )\n",
    "cond_h = ( df_filter[\"City\"] == \"Houston\" )\n",
    "\n",
    "df_m = df_filter[cond_m]\n",
    "df_l = df_filter[cond_l]\n",
    "df_o = df_filter[cond_o]\n",
    "df_d = df_filter[cond_d]\n",
    "df_h = df_filter[cond_h]\n",
    "df_full = df_filter[ cond_m | cond_l | cond_o | cond_d | cond_h ]"
   ]
  },
  {
   "cell_type": "code",
   "execution_count": 189,
   "id": "d7a19697",
   "metadata": {},
   "outputs": [
    {
     "data": {
      "text/plain": [
       "<AxesSubplot:>"
      ]
     },
     "execution_count": 189,
     "metadata": {},
     "output_type": "execute_result"
    },
    {
     "data": {
      "image/png": "[encoded data removed]",
      "text/plain": [
       "<Figure size 432x288 with 1 Axes>"
      ]
     },
     "metadata": {
      "needs_background": "light"
     },
     "output_type": "display_data"
    }
   ],
   "source": [
    "#(19-20) Miami 연도별 사고건 카운트\n",
    "plot_m = df_m[\"year\"].value_counts().sort_values()\n",
    "plot_m.plot.bar()"
   ]
  },
  {
   "cell_type": "code",
   "execution_count": 190,
   "id": "8befbf3f",
   "metadata": {},
   "outputs": [
    {
     "data": {
      "text/plain": [
       "<AxesSubplot:>"
      ]
     },
     "execution_count": 190,
     "metadata": {},
     "output_type": "execute_result"
    },
    {
     "data": {
      "image/png": "[encoded data removed]",
      "text/plain": [
       "<Figure size 432x288 with 1 Axes>"
      ]
     },
     "metadata": {
      "needs_background": "light"
     },
     "output_type": "display_data"
    }
   ],
   "source": [
    "#(19-20) Los Angeles 연도별 사고건 카운트\n",
    "plot_l = df_l[\"year\"].value_counts().sort_values()\n",
    "plot_l.plot.bar()"
   ]
  },
  {
   "cell_type": "code",
   "execution_count": 191,
   "id": "9b1b89a3",
   "metadata": {},
   "outputs": [
    {
     "data": {
      "text/plain": [
       "<AxesSubplot:>"
      ]
     },
     "execution_count": 191,
     "metadata": {},
     "output_type": "execute_result"
    },
    {
     "data": {
      "image/png": "[encoded data removed]",
      "text/plain": [
       "<Figure size 432x288 with 1 Axes>"
      ]
     },
     "metadata": {
      "needs_background": "light"
     },
     "output_type": "display_data"
    }
   ],
   "source": [
    "#(19-20) Orlando 연도별 사고건 카운트\n",
    "plot_o = df_o[\"year\"].value_counts().sort_values()\n",
    "plot_o.plot.bar()"
   ]
  },
  {
   "cell_type": "code",
   "execution_count": 192,
   "id": "6fcef029",
   "metadata": {},
   "outputs": [
    {
     "data": {
      "text/plain": [
       "<AxesSubplot:>"
      ]
     },
     "execution_count": 192,
     "metadata": {},
     "output_type": "execute_result"
    },
    {
     "data": {
      "image/png": "[encoded data removed]",
      "text/plain": [
       "<Figure size 432x288 with 1 Axes>"
      ]
     },
     "metadata": {
      "needs_background": "light"
     },
     "output_type": "display_data"
    }
   ],
   "source": [
    "#(19-20) Dallas연도별 사고건 카운트\n",
    "plot_d = df_d[\"year\"].value_counts().sort_values()\n",
    "plot_d.plot.bar()"
   ]
  },
  {
   "cell_type": "code",
   "execution_count": 193,
   "id": "058fb3ef",
   "metadata": {
    "scrolled": true
   },
   "outputs": [
    {
     "data": {
      "text/plain": [
       "<AxesSubplot:>"
      ]
     },
     "execution_count": 193,
     "metadata": {},
     "output_type": "execute_result"
    },
    {
     "data": {
      "image/png": "[encoded data removed]",
      "text/plain": [
       "<Figure size 432x288 with 1 Axes>"
      ]
     },
     "metadata": {
      "needs_background": "light"
     },
     "output_type": "display_data"
    }
   ],
   "source": [
    "#(19-20) Houston 연도별 사고건 카운트\n",
    "plot_h = df_h[\"year\"].value_counts().sort_values()\n",
    "plot_h.plot.bar()"
   ]
  },
  {
   "cell_type": "markdown",
   "id": "064a1823",
   "metadata": {},
   "source": [
    "## (2019 - 2020) Top5 Time Analysis"
   ]
  },
  {
   "cell_type": "markdown",
   "id": "d59644fe",
   "metadata": {},
   "source": [
    "### 시간대별 차이"
   ]
  },
  {
   "cell_type": "code",
   "execution_count": 194,
   "id": "7bf4d49f",
   "metadata": {},
   "outputs": [],
   "source": [
    "# top5 도시 19,20 분리\n",
    "cond_m_19 = ( df_filter[\"City\"] == \"Miami\") & (df_m[\"year\"]== 2019)\n",
    "cond_l_19 = ( df_filter[\"City\"] == \"Los Angeles\") & (df_l[\"year\"]== 2019)\n",
    "cond_o_19 = ( df_filter[\"City\"] == \"Orlando\") & (df_o[\"year\"]== 2019)\n",
    "cond_d_19 = ( df_filter[\"City\"] == \"Dallas\") & (df_d[\"year\"]== 2019)\n",
    "cond_h_19 = ( df_filter[\"City\"] == \"Houston\") & (df_h[\"year\"]== 2019)\n",
    "\n",
    "cond_m_20 = ( df_filter[\"City\"] == \"Miami\") & (df_m[\"year\"]== 2020)\n",
    "cond_l_20 = ( df_filter[\"City\"] == \"Los Angeles\") & (df_l[\"year\"]== 2020)\n",
    "cond_o_20 = ( df_filter[\"City\"] == \"Orlando\") & (df_o[\"year\"]== 2020)\n",
    "cond_d_20 = ( df_filter[\"City\"] == \"Dallas\") & (df_d[\"year\"]== 2020)\n",
    "cond_h_20 = ( df_filter[\"City\"] == \"Houston\") & (df_h[\"year\"]== 2020)"
   ]
  },
  {
   "cell_type": "code",
   "execution_count": 195,
   "id": "d7a26387",
   "metadata": {},
   "outputs": [],
   "source": [
    "# 19년도 \n",
    "df_m_19 = df_filter[cond_m_19]\n",
    "df_l_19 = df_filter[cond_l_19]\n",
    "df_o_19 = df_filter[cond_o_19]\n",
    "df_d_19 = df_filter[cond_d_19]\n",
    "df_h_19 = df_filter[cond_h_19]\n",
    "df_full_19 = df_filter[ cond_m_19 | cond_l_19 | cond_o_19 | cond_d_19 | cond_h_19 ]\n",
    "\n",
    "# 20년도\n",
    "df_m_20 = df_filter[cond_m_20]\n",
    "df_l_20 = df_filter[cond_l_20]\n",
    "df_o_20 = df_filter[cond_o_20]\n",
    "df_d_20 = df_filter[cond_d_20]\n",
    "df_h_20 = df_filter[cond_h_20]\n",
    "df_full_20 = df_filter[ cond_m_20 | cond_l_20 | cond_o_20 | cond_d_20 | cond_h_20 ]"
   ]
  },
  {
   "cell_type": "code",
   "execution_count": 196,
   "id": "6fadfa61",
   "metadata": {
    "scrolled": true
   },
   "outputs": [
    {
     "data": {
      "text/plain": [
       "Text(0.5, 1.0, 'Accidents Count By Time of Day')"
      ]
     },
     "execution_count": 196,
     "metadata": {},
     "output_type": "execute_result"
    },
    {
     "data": {
      "image/png": "[encoded data removed]",
      "text/plain": [
       "<Figure size 576x360 with 1 Axes>"
      ]
     },
     "metadata": {
      "needs_background": "light"
     },
     "output_type": "display_data"
    }
   ],
   "source": [
    "# 5개도시 전부_19\n",
    "fig, ax = plt.subplots(figsize=(8,5))\n",
    "sns.histplot(df_full_19['Start_Time'].dt.hour, bins = 24)\n",
    "\n",
    "plt.xlabel(\"Start Time\")\n",
    "plt.ylabel(\"Number of Occurence\")\n",
    "plt.ylim([0,6500])\n",
    "plt.title('Accidents Count By Time of Day')"
   ]
  },
  {
   "cell_type": "code",
   "execution_count": 197,
   "id": "bcd10700",
   "metadata": {},
   "outputs": [
    {
     "data": {
      "text/plain": [
       "Text(0.5, 1.0, 'Accidents Count By Time of Day')"
      ]
     },
     "execution_count": 197,
     "metadata": {},
     "output_type": "execute_result"
    },
    {
     "data": {
      "image/png": "[encoded data removed]",
      "text/plain": [
       "<Figure size 576x360 with 1 Axes>"
      ]
     },
     "metadata": {
      "needs_background": "light"
     },
     "output_type": "display_data"
    }
   ],
   "source": [
    "# 5개도시 전부_20\n",
    "fig, ax = plt.subplots(figsize=(8,5))\n",
    "sns.histplot(df_full_20['Start_Time'].dt.hour, bins = 24)\n",
    "\n",
    "plt.xlabel(\"Start Time\")\n",
    "plt.ylabel(\"Number of Occurence\")\n",
    "plt.ylim([0,6500])\n",
    "plt.title('Accidents Count By Time of Day')"
   ]
  },
  {
   "cell_type": "code",
   "execution_count": 198,
   "id": "57f44b58",
   "metadata": {},
   "outputs": [
    {
     "data": {
      "text/plain": [
       "Text(0.5, 1.0, 'Accidents Count By Time of Day')"
      ]
     },
     "execution_count": 198,
     "metadata": {},
     "output_type": "execute_result"
    },
    {
     "data": {
      "image/png": "[encoded data removed]",
      "text/plain": [
       "<Figure size 576x360 with 1 Axes>"
      ]
     },
     "metadata": {
      "needs_background": "light"
     },
     "output_type": "display_data"
    }
   ],
   "source": [
    "# 마이애미_19\n",
    "fig, ax = plt.subplots(figsize=(8,5))\n",
    "sns.histplot(df_m_19['Start_Time'].dt.hour, bins = 24)\n",
    "\n",
    "plt.xlabel(\"Start Time\")\n",
    "plt.ylabel(\"Number of Occurence\")\n",
    "plt.ylim([0,3800])\n",
    "plt.title('Accidents Count By Time of Day')"
   ]
  },
  {
   "cell_type": "code",
   "execution_count": 199,
   "id": "1eb93ec6",
   "metadata": {
    "scrolled": true
   },
   "outputs": [
    {
     "data": {
      "text/plain": [
       "Text(0.5, 1.0, 'Accidents Count By Time of Day')"
      ]
     },
     "execution_count": 199,
     "metadata": {},
     "output_type": "execute_result"
    },
    {
     "data": {
      "image/png": "[encoded data removed]",
      "text/plain": [
       "<Figure size 576x360 with 1 Axes>"
      ]
     },
     "metadata": {
      "needs_background": "light"
     },
     "output_type": "display_data"
    }
   ],
   "source": [
    "# 마이애미_20\n",
    "fig, ax = plt.subplots(figsize=(8,5))\n",
    "sns.histplot(df_m_20['Start_Time'].dt.hour, bins = 24)\n",
    "\n",
    "plt.xlabel(\"Start Time\")\n",
    "plt.ylabel(\"Number of Occurence\")\n",
    "plt.ylim([0,3800])\n",
    "plt.title('Accidents Count By Time of Day')"
   ]
  },
  {
   "cell_type": "code",
   "execution_count": 200,
   "id": "4b53c153",
   "metadata": {},
   "outputs": [
    {
     "data": {
      "text/plain": [
       "Text(0.5, 1.0, 'Accidents Count By Time of Day')"
      ]
     },
     "execution_count": 200,
     "metadata": {},
     "output_type": "execute_result"
    },
    {
     "data": {
      "image/png": "[encoded data removed]",
      "text/plain": [
       "<Figure size 576x360 with 1 Axes>"
      ]
     },
     "metadata": {
      "needs_background": "light"
     },
     "output_type": "display_data"
    }
   ],
   "source": [
    "# 로스앤젤러스_19\n",
    "fig, ax = plt.subplots(figsize=(8,5))\n",
    "sns.histplot(df_l_19['Start_Time'].dt.hour, bins = 24)\n",
    "\n",
    "plt.xlabel(\"Start Time\")\n",
    "plt.ylabel(\"Number of Occurence\")\n",
    "plt.ylim([0,1500])\n",
    "plt.title('Accidents Count By Time of Day')"
   ]
  },
  {
   "cell_type": "code",
   "execution_count": 201,
   "id": "4da9ddbb",
   "metadata": {},
   "outputs": [
    {
     "data": {
      "text/plain": [
       "Text(0.5, 1.0, 'Accidents Count By Time of Day')"
      ]
     },
     "execution_count": 201,
     "metadata": {},
     "output_type": "execute_result"
    },
    {
     "data": {
      "image/png": "[encoded data removed]",
      "text/plain": [
       "<Figure size 576x360 with 1 Axes>"
      ]
     },
     "metadata": {
      "needs_background": "light"
     },
     "output_type": "display_data"
    }
   ],
   "source": [
    "# 로스앤젤러스_20\n",
    "fig, ax = plt.subplots(figsize=(8,5))\n",
    "sns.histplot(df_l_20['Start_Time'].dt.hour, bins = 24)\n",
    "\n",
    "plt.xlabel(\"Start Time\")\n",
    "plt.ylabel(\"Number of Occurence\")\n",
    "plt.ylim([0,1500])\n",
    "plt.title('Accidents Count By Time of Day')"
   ]
  },
  {
   "cell_type": "code",
   "execution_count": 202,
   "id": "7a6b6230",
   "metadata": {},
   "outputs": [
    {
     "data": {
      "text/plain": [
       "Text(0.5, 1.0, 'Accidents Count By Time of Day')"
      ]
     },
     "execution_count": 202,
     "metadata": {},
     "output_type": "execute_result"
    },
    {
     "data": {
      "image/png": "[encoded data removed]",
      "text/plain": [
       "<Figure size 576x360 with 1 Axes>"
      ]
     },
     "metadata": {
      "needs_background": "light"
     },
     "output_type": "display_data"
    }
   ],
   "source": [
    "# 올란도_19\n",
    "fig, ax = plt.subplots(figsize=(8,5))\n",
    "sns.histplot(df_o_19['Start_Time'].dt.hour, bins = 24)\n",
    "\n",
    "plt.xlabel(\"Start Time\")\n",
    "plt.ylabel(\"Number of Occurence\")\n",
    "plt.ylim([0,1500])\n",
    "plt.title('Accidents Count By Time of Day')"
   ]
  },
  {
   "cell_type": "code",
   "execution_count": 203,
   "id": "8af69ae5",
   "metadata": {
    "scrolled": true
   },
   "outputs": [
    {
     "data": {
      "text/plain": [
       "Text(0.5, 1.0, 'Accidents Count By Time of Day')"
      ]
     },
     "execution_count": 203,
     "metadata": {},
     "output_type": "execute_result"
    },
    {
     "data": {
      "image/png": "[encoded data removed]",
      "text/plain": [
       "<Figure size 576x360 with 1 Axes>"
      ]
     },
     "metadata": {
      "needs_background": "light"
     },
     "output_type": "display_data"
    }
   ],
   "source": [
    "# 올란도_20\n",
    "fig, ax = plt.subplots(figsize=(8,5))\n",
    "sns.histplot(df_o_20['Start_Time'].dt.hour, bins = 24)\n",
    "\n",
    "plt.xlabel(\"Start Time\")\n",
    "plt.ylabel(\"Number of Occurence\")\n",
    "plt.ylim([0,1500])\n",
    "plt.title('Accidents Count By Time of Day')"
   ]
  },
  {
   "cell_type": "code",
   "execution_count": 204,
   "id": "d4f9dd29",
   "metadata": {},
   "outputs": [
    {
     "data": {
      "text/plain": [
       "Text(0.5, 1.0, 'Accidents Count By Time of Day')"
      ]
     },
     "execution_count": 204,
     "metadata": {},
     "output_type": "execute_result"
    },
    {
     "data": {
      "image/png": "[encoded data removed]",
      "text/plain": [
       "<Figure size 576x360 with 1 Axes>"
      ]
     },
     "metadata": {
      "needs_background": "light"
     },
     "output_type": "display_data"
    }
   ],
   "source": [
    "# 달라스_19\n",
    "fig, ax = plt.subplots(figsize=(8,5))\n",
    "sns.histplot(df_d_19['Start_Time'].dt.hour, bins = 24)\n",
    "\n",
    "plt.xlabel(\"Start Time\")\n",
    "plt.ylabel(\"Number of Occurence\")\n",
    "plt.ylim([0,1500])\n",
    "plt.title('Accidents Count By Time of Day')"
   ]
  },
  {
   "cell_type": "code",
   "execution_count": 205,
   "id": "36646c7e",
   "metadata": {},
   "outputs": [
    {
     "data": {
      "text/plain": [
       "Text(0.5, 1.0, 'Accidents Count By Time of Day')"
      ]
     },
     "execution_count": 205,
     "metadata": {},
     "output_type": "execute_result"
    },
    {
     "data": {
      "image/png": "[encoded data removed]",
      "text/plain": [
       "<Figure size 576x360 with 1 Axes>"
      ]
     },
     "metadata": {
      "needs_background": "light"
     },
     "output_type": "display_data"
    }
   ],
   "source": [
    "# 달라스_20\n",
    "fig, ax = plt.subplots(figsize=(8,5))\n",
    "sns.histplot(df_d_20['Start_Time'].dt.hour, bins = 24)\n",
    "\n",
    "plt.xlabel(\"Start Time\")\n",
    "plt.ylabel(\"Number of Occurence\")\n",
    "plt.ylim([0,1500])\n",
    "plt.title('Accidents Count By Time of Day')"
   ]
  },
  {
   "cell_type": "code",
   "execution_count": 206,
   "id": "859f94eb",
   "metadata": {},
   "outputs": [
    {
     "data": {
      "text/plain": [
       "Text(0.5, 1.0, 'Accidents Count By Time of Day')"
      ]
     },
     "execution_count": 206,
     "metadata": {},
     "output_type": "execute_result"
    },
    {
     "data": {
      "image/png": "[encoded data removed]",
      "text/plain": [
       "<Figure size 576x360 with 1 Axes>"
      ]
     },
     "metadata": {
      "needs_background": "light"
     },
     "output_type": "display_data"
    }
   ],
   "source": [
    "# 호스턴_19\n",
    "fig, ax = plt.subplots(figsize=(8,5))\n",
    "sns.histplot(df_h_19['Start_Time'].dt.hour, bins = 24)\n",
    "\n",
    "plt.xlabel(\"Start Time\")\n",
    "plt.ylabel(\"Number of Occurence\")\n",
    "plt.ylim([0,1500])\n",
    "plt.title('Accidents Count By Time of Day')"
   ]
  },
  {
   "cell_type": "code",
   "execution_count": 207,
   "id": "434abb4a",
   "metadata": {},
   "outputs": [
    {
     "data": {
      "text/plain": [
       "Text(0.5, 1.0, 'Accidents Count By Time of Day')"
      ]
     },
     "execution_count": 207,
     "metadata": {},
     "output_type": "execute_result"
    },
    {
     "data": {
      "image/png": "[encoded data removed]",
      "text/plain": [
       "<Figure size 576x360 with 1 Axes>"
      ]
     },
     "metadata": {
      "needs_background": "light"
     },
     "output_type": "display_data"
    }
   ],
   "source": [
    "# 호스턴_20\n",
    "fig, ax = plt.subplots(figsize=(8,5))\n",
    "sns.histplot(df_h_20['Start_Time'].dt.hour, bins = 24)\n",
    "\n",
    "plt.xlabel(\"Start Time\")\n",
    "plt.ylabel(\"Number of Occurence\")\n",
    "plt.ylim([0,1500])\n",
    "plt.title('Accidents Count By Time of Day')"
   ]
  },
  {
   "cell_type": "markdown",
   "id": "8b022a07",
   "metadata": {},
   "source": [
    "### 마이애미 세부 month 분석"
   ]
  },
  {
   "cell_type": "code",
   "execution_count": 219,
   "id": "116bda14",
   "metadata": {
    "scrolled": true
   },
   "outputs": [
    {
     "data": {
      "text/plain": [
       "1     139\n",
       "2     178\n",
       "3     184\n",
       "4     159\n",
       "5     197\n",
       "6     151\n",
       "7     158\n",
       "8     174\n",
       "9     120\n",
       "10    158\n",
       "11     55\n",
       "12    132\n",
       "Name: month, dtype: int64"
      ]
     },
     "execution_count": 219,
     "metadata": {},
     "output_type": "execute_result"
    }
   ],
   "source": [
    "#마이애미_19\n",
    "df_m_19[\"month\"].value_counts().sort_index()\n"
   ]
  },
  {
   "cell_type": "code",
   "execution_count": 220,
   "id": "7909f0fb",
   "metadata": {},
   "outputs": [
    {
     "data": {
      "text/plain": [
       "(0.0, 200.0)"
      ]
     },
     "execution_count": 220,
     "metadata": {},
     "output_type": "execute_result"
    },
    {
     "data": {
      "image/png": "[encoded data removed]",
      "text/plain": [
       "<Figure size 576x360 with 1 Axes>"
      ]
     },
     "metadata": {
      "needs_background": "light"
     },
     "output_type": "display_data"
    }
   ],
   "source": [
    "fig, ax = plt.subplots(figsize=(8,5))\n",
    "sns.histplot(df_m_19[\"month\"], bins = 12)\n",
    "\n",
    "plt.ylim([0,200])\n"
   ]
  },
  {
   "cell_type": "code",
   "execution_count": 217,
   "id": "8a084f43",
   "metadata": {
    "scrolled": true
   },
   "outputs": [
    {
     "data": {
      "text/plain": [
       "1      163\n",
       "2      110\n",
       "3      176\n",
       "4      142\n",
       "5      230\n",
       "6      196\n",
       "8        2\n",
       "9     2566\n",
       "10    4485\n",
       "11    5234\n",
       "12    5914\n",
       "Name: month, dtype: int64"
      ]
     },
     "execution_count": 217,
     "metadata": {},
     "output_type": "execute_result"
    }
   ],
   "source": [
    "#마이애미_20\n",
    "df_m_20[\"month\"].value_counts().sort_index()"
   ]
  },
  {
   "cell_type": "code",
   "execution_count": 211,
   "id": "d61ba497",
   "metadata": {},
   "outputs": [
    {
     "data": {
      "text/plain": [
       "(0.0, 6000.0)"
      ]
     },
     "execution_count": 211,
     "metadata": {},
     "output_type": "execute_result"
    },
    {
     "data": {
      "image/png": "[encoded data removed]",
      "text/plain": [
       "<Figure size 576x360 with 1 Axes>"
      ]
     },
     "metadata": {
      "needs_background": "light"
     },
     "output_type": "display_data"
    }
   ],
   "source": [
    "fig, ax = plt.subplots(figsize=(8,5))\n",
    "sns.histplot(df_m_20[\"month\"], bins = 12)\n",
    "\n",
    "plt.ylim([0,6000]) ## 7,8월에 왜 없음...?"
   ]
  },
  {
   "cell_type": "markdown",
   "id": "589b40ad",
   "metadata": {},
   "source": [
    "#### 마이애미 월별 심각도 분석\n",
    "- 가설 : 마이애미의 사고건수는 줄어들었지만 심각도의 수준은 높아질것이다.\n"
   ]
  },
  {
   "cell_type": "code",
   "execution_count": 243,
   "id": "8697c300",
   "metadata": {},
   "outputs": [
    {
     "data": {
      "text/plain": [
       "dtype('int64')"
      ]
     },
     "execution_count": 243,
     "metadata": {},
     "output_type": "execute_result"
    }
   ],
   "source": [
    "df_m_19[\"Severity\"].dtypes"
   ]
  },
  {
   "cell_type": "code",
   "execution_count": 251,
   "id": "44ee0707",
   "metadata": {},
   "outputs": [],
   "source": [
    "# severity 문자형으로 변환 \n",
    "df_m_19[\"Severity\"]= df_m_19[\"Severity\"].astype(object)\n",
    "df_m_20[\"Severity\"]= df_m_20[\"Severity\"].astype(object)"
   ]
  },
  {
   "cell_type": "code",
   "execution_count": 250,
   "id": "6b1b37c1",
   "metadata": {},
   "outputs": [
    {
     "data": {
      "text/html": [
       "<div>\n",
       "<style scoped>\n",
       "    .dataframe tbody tr th:only-of-type {\n",
       "        vertical-align: middle;\n",
       "    }\n",
       "\n",
       "    .dataframe tbody tr th {\n",
       "        vertical-align: top;\n",
       "    }\n",
       "\n",
       "    .dataframe thead th {\n",
       "        text-align: right;\n",
       "    }\n",
       "</style>\n",
       "<table border=\"1\" class=\"dataframe\">\n",
       "  <thead>\n",
       "    <tr style=\"text-align: right;\">\n",
       "      <th>month</th>\n",
       "      <th>1</th>\n",
       "      <th>2</th>\n",
       "      <th>3</th>\n",
       "      <th>4</th>\n",
       "      <th>5</th>\n",
       "      <th>6</th>\n",
       "      <th>7</th>\n",
       "      <th>8</th>\n",
       "      <th>9</th>\n",
       "      <th>10</th>\n",
       "      <th>11</th>\n",
       "      <th>12</th>\n",
       "    </tr>\n",
       "    <tr>\n",
       "      <th>Severity</th>\n",
       "      <th></th>\n",
       "      <th></th>\n",
       "      <th></th>\n",
       "      <th></th>\n",
       "      <th></th>\n",
       "      <th></th>\n",
       "      <th></th>\n",
       "      <th></th>\n",
       "      <th></th>\n",
       "      <th></th>\n",
       "      <th></th>\n",
       "      <th></th>\n",
       "    </tr>\n",
       "  </thead>\n",
       "  <tbody>\n",
       "    <tr>\n",
       "      <th>2</th>\n",
       "      <td>54</td>\n",
       "      <td>77</td>\n",
       "      <td>96</td>\n",
       "      <td>77</td>\n",
       "      <td>86</td>\n",
       "      <td>57</td>\n",
       "      <td>80</td>\n",
       "      <td>70</td>\n",
       "      <td>42</td>\n",
       "      <td>89</td>\n",
       "      <td>24</td>\n",
       "      <td>57</td>\n",
       "    </tr>\n",
       "    <tr>\n",
       "      <th>3</th>\n",
       "      <td>55</td>\n",
       "      <td>51</td>\n",
       "      <td>38</td>\n",
       "      <td>41</td>\n",
       "      <td>57</td>\n",
       "      <td>44</td>\n",
       "      <td>31</td>\n",
       "      <td>57</td>\n",
       "      <td>35</td>\n",
       "      <td>32</td>\n",
       "      <td>13</td>\n",
       "      <td>22</td>\n",
       "    </tr>\n",
       "    <tr>\n",
       "      <th>4</th>\n",
       "      <td>30</td>\n",
       "      <td>50</td>\n",
       "      <td>50</td>\n",
       "      <td>41</td>\n",
       "      <td>54</td>\n",
       "      <td>50</td>\n",
       "      <td>47</td>\n",
       "      <td>47</td>\n",
       "      <td>43</td>\n",
       "      <td>37</td>\n",
       "      <td>18</td>\n",
       "      <td>53</td>\n",
       "    </tr>\n",
       "  </tbody>\n",
       "</table>\n",
       "</div>"
      ],
      "text/plain": [
       "month     1   2   3   4   5   6   7   8   9   10  11  12\n",
       "Severity                                                \n",
       "2         54  77  96  77  86  57  80  70  42  89  24  57\n",
       "3         55  51  38  41  57  44  31  57  35  32  13  22\n",
       "4         30  50  50  41  54  50  47  47  43  37  18  53"
      ]
     },
     "execution_count": 250,
     "metadata": {},
     "output_type": "execute_result"
    }
   ],
   "source": [
    "severity_m_19 = pd.pivot_table( data = df_m_19, index= 'Severity', columns='month', values = 'ID', aggfunc = 'count')\n",
    "severity_m_19"
   ]
  },
  {
   "cell_type": "code",
   "execution_count": 262,
   "id": "f21d19f6",
   "metadata": {
    "scrolled": true
   },
   "outputs": [
    {
     "data": {
      "text/html": [
       "<div>\n",
       "<style scoped>\n",
       "    .dataframe tbody tr th:only-of-type {\n",
       "        vertical-align: middle;\n",
       "    }\n",
       "\n",
       "    .dataframe tbody tr th {\n",
       "        vertical-align: top;\n",
       "    }\n",
       "\n",
       "    .dataframe thead th {\n",
       "        text-align: right;\n",
       "    }\n",
       "</style>\n",
       "<table border=\"1\" class=\"dataframe\">\n",
       "  <thead>\n",
       "    <tr style=\"text-align: right;\">\n",
       "      <th>month</th>\n",
       "      <th>1</th>\n",
       "      <th>2</th>\n",
       "      <th>3</th>\n",
       "      <th>4</th>\n",
       "      <th>5</th>\n",
       "      <th>6</th>\n",
       "      <th>8</th>\n",
       "      <th>9</th>\n",
       "      <th>10</th>\n",
       "      <th>11</th>\n",
       "      <th>12</th>\n",
       "    </tr>\n",
       "    <tr>\n",
       "      <th>Severity</th>\n",
       "      <th></th>\n",
       "      <th></th>\n",
       "      <th></th>\n",
       "      <th></th>\n",
       "      <th></th>\n",
       "      <th></th>\n",
       "      <th></th>\n",
       "      <th></th>\n",
       "      <th></th>\n",
       "      <th></th>\n",
       "      <th></th>\n",
       "    </tr>\n",
       "  </thead>\n",
       "  <tbody>\n",
       "    <tr>\n",
       "      <th>1</th>\n",
       "      <td>NaN</td>\n",
       "      <td>NaN</td>\n",
       "      <td>14.0</td>\n",
       "      <td>14.0</td>\n",
       "      <td>14.0</td>\n",
       "      <td>10.0</td>\n",
       "      <td>NaN</td>\n",
       "      <td>NaN</td>\n",
       "      <td>NaN</td>\n",
       "      <td>NaN</td>\n",
       "      <td>NaN</td>\n",
       "    </tr>\n",
       "    <tr>\n",
       "      <th>2</th>\n",
       "      <td>69.0</td>\n",
       "      <td>50.0</td>\n",
       "      <td>68.0</td>\n",
       "      <td>64.0</td>\n",
       "      <td>71.0</td>\n",
       "      <td>49.0</td>\n",
       "      <td>NaN</td>\n",
       "      <td>2558.0</td>\n",
       "      <td>4478.0</td>\n",
       "      <td>5223.0</td>\n",
       "      <td>5902.0</td>\n",
       "    </tr>\n",
       "    <tr>\n",
       "      <th>3</th>\n",
       "      <td>43.0</td>\n",
       "      <td>27.0</td>\n",
       "      <td>59.0</td>\n",
       "      <td>51.0</td>\n",
       "      <td>104.0</td>\n",
       "      <td>117.0</td>\n",
       "      <td>2.0</td>\n",
       "      <td>NaN</td>\n",
       "      <td>NaN</td>\n",
       "      <td>NaN</td>\n",
       "      <td>NaN</td>\n",
       "    </tr>\n",
       "    <tr>\n",
       "      <th>4</th>\n",
       "      <td>51.0</td>\n",
       "      <td>33.0</td>\n",
       "      <td>35.0</td>\n",
       "      <td>13.0</td>\n",
       "      <td>41.0</td>\n",
       "      <td>20.0</td>\n",
       "      <td>NaN</td>\n",
       "      <td>8.0</td>\n",
       "      <td>7.0</td>\n",
       "      <td>11.0</td>\n",
       "      <td>12.0</td>\n",
       "    </tr>\n",
       "  </tbody>\n",
       "</table>\n",
       "</div>"
      ],
      "text/plain": [
       "month       1     2     3     4      5      6    8       9       10      11  \\\n",
       "Severity                                                                      \n",
       "1          NaN   NaN  14.0  14.0   14.0   10.0  NaN     NaN     NaN     NaN   \n",
       "2         69.0  50.0  68.0  64.0   71.0   49.0  NaN  2558.0  4478.0  5223.0   \n",
       "3         43.0  27.0  59.0  51.0  104.0  117.0  2.0     NaN     NaN     NaN   \n",
       "4         51.0  33.0  35.0  13.0   41.0   20.0  NaN     8.0     7.0    11.0   \n",
       "\n",
       "month         12  \n",
       "Severity          \n",
       "1            NaN  \n",
       "2         5902.0  \n",
       "3            NaN  \n",
       "4           12.0  "
      ]
     },
     "execution_count": 262,
     "metadata": {},
     "output_type": "execute_result"
    }
   ],
   "source": [
    "severity_m_20 = pd.pivot_table( data = df_m_20, index= 'Severity', columns='month', values = 'ID', aggfunc = 'count')\n",
    "severity_m_20"
   ]
  },
  {
   "cell_type": "code",
   "execution_count": 254,
   "id": "5ce529be",
   "metadata": {},
   "outputs": [
    {
     "data": {
      "text/plain": [
       "dtype('int32')"
      ]
     },
     "execution_count": 254,
     "metadata": {},
     "output_type": "execute_result"
    }
   ],
   "source": [
    "# severity 정수형으로 변환 \n",
    "df_m_19[\"Severity\"]= df_m_19[\"Severity\"].astype(int)\n",
    "df_m_20[\"Severity\"]= df_m_20[\"Severity\"].astype(int)\n",
    "df_m_19[\"Severity\"].dtypes"
   ]
  },
  {
   "cell_type": "code",
   "execution_count": 260,
   "id": "67d0497e",
   "metadata": {
    "scrolled": true
   },
   "outputs": [
    {
     "data": {
      "text/html": [
       "<div>\n",
       "<style scoped>\n",
       "    .dataframe tbody tr th:only-of-type {\n",
       "        vertical-align: middle;\n",
       "    }\n",
       "\n",
       "    .dataframe tbody tr th {\n",
       "        vertical-align: top;\n",
       "    }\n",
       "\n",
       "    .dataframe thead th {\n",
       "        text-align: right;\n",
       "    }\n",
       "</style>\n",
       "<table border=\"1\" class=\"dataframe\">\n",
       "  <thead>\n",
       "    <tr style=\"text-align: right;\">\n",
       "      <th>month</th>\n",
       "      <th>1</th>\n",
       "      <th>2</th>\n",
       "      <th>3</th>\n",
       "      <th>4</th>\n",
       "      <th>5</th>\n",
       "      <th>6</th>\n",
       "      <th>7</th>\n",
       "      <th>8</th>\n",
       "      <th>9</th>\n",
       "      <th>10</th>\n",
       "      <th>11</th>\n",
       "      <th>12</th>\n",
       "    </tr>\n",
       "  </thead>\n",
       "  <tbody>\n",
       "    <tr>\n",
       "      <th>Severity</th>\n",
       "      <td>2.827338</td>\n",
       "      <td>2.848315</td>\n",
       "      <td>2.75</td>\n",
       "      <td>2.773585</td>\n",
       "      <td>2.837563</td>\n",
       "      <td>2.953642</td>\n",
       "      <td>2.791139</td>\n",
       "      <td>2.867816</td>\n",
       "      <td>3.008333</td>\n",
       "      <td>2.670886</td>\n",
       "      <td>2.890909</td>\n",
       "      <td>2.969697</td>\n",
       "    </tr>\n",
       "  </tbody>\n",
       "</table>\n",
       "</div>"
      ],
      "text/plain": [
       "month           1         2     3         4         5         6         7   \\\n",
       "Severity  2.827338  2.848315  2.75  2.773585  2.837563  2.953642  2.791139   \n",
       "\n",
       "month           8         9         10        11        12  \n",
       "Severity  2.867816  3.008333  2.670886  2.890909  2.969697  "
      ]
     },
     "execution_count": 260,
     "metadata": {},
     "output_type": "execute_result"
    }
   ],
   "source": [
    "severity_m__19 = pd.pivot_table( data = df_m_19, columns='month', values = 'Severity', aggfunc = 'mean')\n",
    "severity_m__19"
   ]
  },
  {
   "cell_type": "code",
   "execution_count": 261,
   "id": "85a6095b",
   "metadata": {
    "scrolled": true
   },
   "outputs": [
    {
     "data": {
      "text/html": [
       "<div>\n",
       "<style scoped>\n",
       "    .dataframe tbody tr th:only-of-type {\n",
       "        vertical-align: middle;\n",
       "    }\n",
       "\n",
       "    .dataframe tbody tr th {\n",
       "        vertical-align: top;\n",
       "    }\n",
       "\n",
       "    .dataframe thead th {\n",
       "        text-align: right;\n",
       "    }\n",
       "</style>\n",
       "<table border=\"1\" class=\"dataframe\">\n",
       "  <thead>\n",
       "    <tr style=\"text-align: right;\">\n",
       "      <th>month</th>\n",
       "      <th>1</th>\n",
       "      <th>2</th>\n",
       "      <th>3</th>\n",
       "      <th>4</th>\n",
       "      <th>5</th>\n",
       "      <th>6</th>\n",
       "      <th>8</th>\n",
       "      <th>9</th>\n",
       "      <th>10</th>\n",
       "      <th>11</th>\n",
       "      <th>12</th>\n",
       "    </tr>\n",
       "  </thead>\n",
       "  <tbody>\n",
       "    <tr>\n",
       "      <th>Severity</th>\n",
       "      <td>2.889571</td>\n",
       "      <td>2.845455</td>\n",
       "      <td>2.653409</td>\n",
       "      <td>2.443662</td>\n",
       "      <td>2.747826</td>\n",
       "      <td>2.75</td>\n",
       "      <td>3.0</td>\n",
       "      <td>2.006235</td>\n",
       "      <td>2.003122</td>\n",
       "      <td>2.004203</td>\n",
       "      <td>2.004058</td>\n",
       "    </tr>\n",
       "  </tbody>\n",
       "</table>\n",
       "</div>"
      ],
      "text/plain": [
       "month           1         2         3         4         5     6    8   \\\n",
       "Severity  2.889571  2.845455  2.653409  2.443662  2.747826  2.75  3.0   \n",
       "\n",
       "month           9         10        11        12  \n",
       "Severity  2.006235  2.003122  2.004203  2.004058  "
      ]
     },
     "execution_count": 261,
     "metadata": {},
     "output_type": "execute_result"
    }
   ],
   "source": [
    "severity_m__20 = pd.pivot_table( data = df_m_20, columns='month', values = 'Severity', aggfunc = 'mean')\n",
    "severity_m__20"
   ]
  },
  {
   "cell_type": "code",
   "execution_count": null,
   "id": "d3aaee0a",
   "metadata": {},
   "outputs": [],
   "source": []
  }
 ],
 "metadata": {
  "kernelspec": {
   "display_name": "Python 3 (ipykernel)",
   "language": "python",
   "name": "python3"
  },
  "language_info": {
   "codemirror_mode": {
    "name": "ipython",
    "version": 3
   },
   "file_extension": ".py",
   "mimetype": "text/x-python",
   "name": "python",
   "nbconvert_exporter": "python",
   "pygments_lexer": "ipython3",
   "version": "3.9.7"
  },
  "toc": {
   "base_numbering": 1,
   "nav_menu": {},
   "number_sections": true,
   "sideBar": true,
   "skip_h1_title": false,
   "title_cell": "Table of Contents",
   "title_sidebar": "Contents",
   "toc_cell": false,
   "toc_position": {
    "height": "calc(100% - 180px)",
    "left": "10px",
    "top": "150px",
    "width": "165px"
   },
   "toc_section_display": true,
   "toc_window_display": true
  }
 },
 "nbformat": 4,
 "nbformat_minor": 5
}
