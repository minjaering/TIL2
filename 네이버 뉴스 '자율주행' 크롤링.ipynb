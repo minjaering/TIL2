{
 "cells": [
  {
   "cell_type": "code",
   "execution_count": 1,
   "id": "63e0d477",
   "metadata": {},
   "outputs": [],
   "source": [
    "# 네이버 뉴스 자율주행 크롤링"
   ]
  },
  {
   "cell_type": "code",
   "execution_count": 11,
   "id": "aaa377a7",
   "metadata": {},
   "outputs": [],
   "source": [
    "import requests\n",
    "from pandas import DataFrame\n",
    "from bs4 import BeautifulSoup\n",
    "import re\n",
    "from datetime import datetime\n",
    "import os"
   ]
  },
  {
   "cell_type": "code",
   "execution_count": 12,
   "id": "171512ff",
   "metadata": {},
   "outputs": [],
   "source": [
    "date = str(datetime.now())\n",
    "date = date[:date.rfind(':')].replace('','_')\n",
    "date = date.replace(':','시') + '분'"
   ]
  },
  {
   "cell_type": "code",
   "execution_count": 13,
   "id": "6a587d3d",
   "metadata": {},
   "outputs": [
    {
     "name": "stdout",
     "output_type": "stream",
     "text": [
      "검색 키워드를 입력하세요 : 자율주행\n",
      "총 필요한 뉴스기사 수를 입력해주세요(숫자만 입력) : 500\n"
     ]
    }
   ],
   "source": [
    "# 인풋 생성\n",
    "query = input('검색 키워드를 입력하세요 : ')\n",
    "query = query.replace(' ', '+')\n",
    "\n",
    "news_num = int(input('총 필요한 뉴스기사 수를 입력해주세요(숫자만 입력) : '))"
   ]
  },
  {
   "cell_type": "code",
   "execution_count": 14,
   "id": "131e8526",
   "metadata": {},
   "outputs": [],
   "source": [
    "# 키워드 = '자율주행'\n",
    "# = f'https://m.search.naver.com/search.naver?where=m_news&sm=mtb_jum&query={키워드}'\n",
    "# print(news_url)\n",
    "#https://m.search.naver.com/search.naver?sm=mtp_hty.top&where=m&query=%EC%9E%90%EC%9C%A8%EC%A3%BC%ED%96%89\n"
   ]
  },
  {
   "cell_type": "code",
   "execution_count": 15,
   "id": "42024188",
   "metadata": {},
   "outputs": [],
   "source": [
    "news_url = 'https://search.naver.com/search.naver?where=m_news&sm=mtb_jum&query={}'\n",
    "\n",
    "req = requests.get(news_url.format(query)) # html 코드 받아오기 <Response [200]>\n",
    "soup = BeautifulSoup(req.text, 'html.parser') # 받은 코드로 파싱 "
   ]
  },
  {
   "cell_type": "code",
   "execution_count": null,
   "id": "8184c946",
   "metadata": {},
   "outputs": [],
   "source": [
    "# soup"
   ]
  },
  {
   "cell_type": "code",
   "execution_count": 19,
   "id": "1acd09ef",
   "metadata": {},
   "outputs": [],
   "source": [
    "# 원하는 정보를 담을 변수 생성(딕셔너리) : key 번호, value 뉴스기사정보\n",
    "news_dict = {}\n",
    "idx = 0 # 현재 뉴스 번호 \n",
    "cur_page =1 # 네이버 뉴스 웹 페이지 "
   ]
  },
  {
   "cell_type": "code",
   "execution_count": 20,
   "id": "8bda76d6",
   "metadata": {},
   "outputs": [
    {
     "name": "stdout",
     "output_type": "stream",
     "text": [
      "\n",
      "크롤링 중...\n"
     ]
    },
    {
     "ename": "AttributeError",
     "evalue": "ResultSet object has no attribute 'find_all'. You're probably treating a list of elements like a single element. Did you call find_all() when you meant to call find()?",
     "output_type": "error",
     "traceback": [
      "\u001b[0;31m---------------------------------------------------------------------------\u001b[0m",
      "\u001b[0;31mAttributeError\u001b[0m                            Traceback (most recent call last)",
      "Input \u001b[0;32mIn [20]\u001b[0m, in \u001b[0;36m<cell line: 4>\u001b[0;34m()\u001b[0m\n\u001b[1;32m      4\u001b[0m \u001b[38;5;28;01mwhile\u001b[39;00m idx \u001b[38;5;241m<\u001b[39m news_num:\n\u001b[1;32m      5\u001b[0m \u001b[38;5;66;03m### 네이버 뉴스 웹페이지 구성이 바뀌어 태그명, class 속성 값 등을 수정함(20210126) ###\u001b[39;00m\n\u001b[1;32m      7\u001b[0m     table \u001b[38;5;241m=\u001b[39m soup\u001b[38;5;241m.\u001b[39mfind_all(\u001b[38;5;124m'\u001b[39m\u001b[38;5;124mul\u001b[39m\u001b[38;5;124m'\u001b[39m,{\u001b[38;5;124m'\u001b[39m\u001b[38;5;124mclass\u001b[39m\u001b[38;5;124m'\u001b[39m : \u001b[38;5;124m'\u001b[39m\u001b[38;5;124mlist_news\u001b[39m\u001b[38;5;124m'\u001b[39m})\n\u001b[0;32m----> 8\u001b[0m     li_list \u001b[38;5;241m=\u001b[39m \u001b[43mtable\u001b[49m\u001b[38;5;241;43m.\u001b[39;49m\u001b[43mfind_all\u001b[49m(\u001b[38;5;124m'\u001b[39m\u001b[38;5;124mli\u001b[39m\u001b[38;5;124m'\u001b[39m, {\u001b[38;5;124m'\u001b[39m\u001b[38;5;124mid\u001b[39m\u001b[38;5;124m'\u001b[39m: re\u001b[38;5;241m.\u001b[39mcompile(\u001b[38;5;124m'\u001b[39m\u001b[38;5;124msp_nws.*\u001b[39m\u001b[38;5;124m'\u001b[39m)})\n\u001b[1;32m      9\u001b[0m     area_list \u001b[38;5;241m=\u001b[39m [li\u001b[38;5;241m.\u001b[39mfind(\u001b[38;5;124m'\u001b[39m\u001b[38;5;124mdiv\u001b[39m\u001b[38;5;124m'\u001b[39m, {\u001b[38;5;124m'\u001b[39m\u001b[38;5;124mclass\u001b[39m\u001b[38;5;124m'\u001b[39m : \u001b[38;5;124m'\u001b[39m\u001b[38;5;124mnews_area\u001b[39m\u001b[38;5;124m'\u001b[39m}) \u001b[38;5;28;01mfor\u001b[39;00m li \u001b[38;5;129;01min\u001b[39;00m li_list]\n\u001b[1;32m     10\u001b[0m     a_list \u001b[38;5;241m=\u001b[39m [area\u001b[38;5;241m.\u001b[39mfind(\u001b[38;5;124m'\u001b[39m\u001b[38;5;124ma\u001b[39m\u001b[38;5;124m'\u001b[39m, {\u001b[38;5;124m'\u001b[39m\u001b[38;5;124mclass\u001b[39m\u001b[38;5;124m'\u001b[39m : \u001b[38;5;124m'\u001b[39m\u001b[38;5;124mnews_tit\u001b[39m\u001b[38;5;124m'\u001b[39m}) \u001b[38;5;28;01mfor\u001b[39;00m area \u001b[38;5;129;01min\u001b[39;00m area_list]\n",
      "File \u001b[0;32m~/opt/anaconda3/envs/minjaering/lib/python3.9/site-packages/bs4/element.py:2289\u001b[0m, in \u001b[0;36mResultSet.__getattr__\u001b[0;34m(self, key)\u001b[0m\n\u001b[1;32m   2287\u001b[0m \u001b[38;5;28;01mdef\u001b[39;00m \u001b[38;5;21m__getattr__\u001b[39m(\u001b[38;5;28mself\u001b[39m, key):\n\u001b[1;32m   2288\u001b[0m     \u001b[38;5;124;03m\"\"\"Raise a helpful exception to explain a common code fix.\"\"\"\u001b[39;00m\n\u001b[0;32m-> 2289\u001b[0m     \u001b[38;5;28;01mraise\u001b[39;00m \u001b[38;5;167;01mAttributeError\u001b[39;00m(\n\u001b[1;32m   2290\u001b[0m         \u001b[38;5;124m\"\u001b[39m\u001b[38;5;124mResultSet object has no attribute \u001b[39m\u001b[38;5;124m'\u001b[39m\u001b[38;5;132;01m%s\u001b[39;00m\u001b[38;5;124m'\u001b[39m\u001b[38;5;124m. You\u001b[39m\u001b[38;5;124m'\u001b[39m\u001b[38;5;124mre probably treating a list of elements like a single element. Did you call find_all() when you meant to call find()?\u001b[39m\u001b[38;5;124m\"\u001b[39m \u001b[38;5;241m%\u001b[39m key\n\u001b[1;32m   2291\u001b[0m     )\n",
      "\u001b[0;31mAttributeError\u001b[0m: ResultSet object has no attribute 'find_all'. You're probably treating a list of elements like a single element. Did you call find_all() when you meant to call find()?"
     ]
    }
   ],
   "source": [
    "print()\n",
    "print('크롤링 중...')\n",
    "\n",
    "while idx < news_num:\n",
    "### 네이버 뉴스 웹페이지 구성이 바뀌어 태그명, class 속성 값 등을 수정함(20210126) ###\n",
    "    \n",
    "    table = soup.find_all('ul',{'class' : 'list_news'})\n",
    "    li_list = table.find_all('li', {'id': re.compile('sp_nws.*')})\n",
    "    area_list = [li.find('div', {'class' : 'news_area'}) for li in li_list]\n",
    "    a_list = [area.find('a', {'class' : 'news_tit'}) for area in area_list]\n",
    "    \n",
    "    for n in a_list[:min(len(a_list), news_num-idx)]:\n",
    "        news_dict[idx] = {'title' : n.get('title'),\n",
    "                          'url' : n.get('href') }\n",
    "        idx += 1\n",
    "\n",
    "    cur_page += 1\n",
    "    \n",
    "    pages = soup.find('div', {'class' : 'sc_page_inner'})\n",
    "    next_page_url = [p for p in pages.find_all('a') if p.text == str(cur_page)][0].get('href')\n",
    "    \n",
    "    req = requests.get('https://search.naver.com/search.naver' + next_page_url)\n",
    "    soup = BeautifulSoup(req.text, 'html.parser')"
   ]
  },
  {
   "cell_type": "code",
   "execution_count": 21,
   "id": "61d318df",
   "metadata": {},
   "outputs": [
    {
     "name": "stdout",
     "output_type": "stream",
     "text": [
      "Requirement already satisfied: openpyxl in /Users/minjaering/opt/anaconda3/lib/python3.9/site-packages (3.0.9)\r\n",
      "Requirement already satisfied: et-xmlfile in /Users/minjaering/opt/anaconda3/lib/python3.9/site-packages (from openpyxl) (1.1.0)\r\n"
     ]
    }
   ],
   "source": [
    "! pip install openpyxl"
   ]
  },
  {
   "cell_type": "code",
   "execution_count": 22,
   "id": "264c1354",
   "metadata": {},
   "outputs": [
    {
     "name": "stdout",
     "output_type": "stream",
     "text": [
      "크롤링 완료\n",
      "데이터프레임 변환\n",
      "엑셀 저장 완료 | 경로 : /Users/minjaering/Desktop/2차project\\네이버뉴스_자율주행__2_0_2_2_-_0_6_-_2_0_ _1_1_시_2_4_분.csv\n"
     ]
    }
   ],
   "source": [
    "print('크롤링 완료')\n",
    "print('데이터프레임 변환')\n",
    "news_df = DataFrame(news_dict).T\n",
    "\n",
    "folder_path = os.getcwd()\n",
    "csv_file_name = '네이버뉴스_{}_{}.csv'.format(query, date)\n",
    "\n",
    "news_df.to_csv(csv_file_name)\n",
    "\n",
    "print('엑셀 저장 완료 | 경로 : {}\\\\{}'.format(folder_path, csv_file_name))\n",
    "\n",
    "\n"
   ]
  },
  {
   "cell_type": "code",
   "execution_count": null,
   "id": "8d75f927",
   "metadata": {},
   "outputs": [],
   "source": []
  },
  {
   "cell_type": "code",
   "execution_count": null,
   "id": "fab79bcf",
   "metadata": {},
   "outputs": [],
   "source": []
  },
  {
   "cell_type": "code",
   "execution_count": null,
   "id": "e3e4a42c",
   "metadata": {},
   "outputs": [],
   "source": []
  }
 ],
 "metadata": {
  "kernelspec": {
   "display_name": "Python 3 (ipykernel)",
   "language": "python",
   "name": "python3"
  },
  "language_info": {
   "codemirror_mode": {
    "name": "ipython",
    "version": 3
   },
   "file_extension": ".py",
   "mimetype": "text/x-python",
   "name": "python",
   "nbconvert_exporter": "python",
   "pygments_lexer": "ipython3",
   "version": "3.9.12"
  }
 },
 "nbformat": 4,
 "nbformat_minor": 5
}
